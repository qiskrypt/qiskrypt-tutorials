{
 "cells": [
  {
   "cell_type": "code",
   "execution_count": 1,
   "metadata": {},
   "outputs": [
    {
     "data": {
      "text/html": [
       "<style>.container { width:100% !important; }</style>"
      ],
      "text/plain": [
       "<IPython.core.display.HTML object>"
      ]
     },
     "metadata": {},
     "output_type": "display_data"
    }
   ],
   "source": [
    "from IPython.core.display import display, HTML\n",
    "display(HTML(\"<style>.container { width:100% !important; }</style>\"))"
   ]
  },
  {
   "cell_type": "markdown",
   "metadata": {},
   "source": [
    "# 1.1. Breve Revisão Histórica e Contexto"
   ]
  },
  {
   "cell_type": "markdown",
   "metadata": {},
   "source": [
    "Desde os tempos antigos, que a humanidade sempre sentiu a necessidade de representar e trocar informação, em privado, o que fez com que alguns campos teóricos e ciêntificos emergissem, ao longo dos anos, tais como, **_Ciência da Informação_**, **_Ciência da Computação_**, **_Criptografia_** ou a própria **_Internet_**."
   ]
  },
  {
   "cell_type": "markdown",
   "metadata": {},
   "source": [
    "A partir da necessidade de trocar informação em privado, o campo de **_Criptografia_** emergiu como o estudo de técnicas de comunicação segura, permitindo apenas que o _emissor_ e um _receptor_ autorizado de uma mensagem, vejam o seu conteúdo, através de ambos os processos de:\n",
    "* **_Encriptação_**:\n",
    "    * Codificação de texto ordinário (também conhecido como, _texto em claro_), no que é conhecido como, _texto de cifra_ a ser enviado, que é o procedimento feito pelo _emissor_;\n",
    "* **_Desencriptação_**:\n",
    "    * Recuperação do _texto de cifra_ de volta ao seu estado original (i.e., o _texto em claro_), que é o procedimento feito pelo _receptor_;"
   ]
  },
  {
   "cell_type": "markdown",
   "metadata": {},
   "source": [
    "Na verdade, primeira evidência da **_Criptografia_** surgiu ainda muito antes do **_Império de Roma_**, de **_Júlio Cesar_**, surgindo dos **_Egípcios Antigos_**, nomeadamente com o uso de **_Hieróglifos_** e **_Pictogramas_** complexos, para escrever mensagens secretas, onde a codificação secreta era apenas conhecido pelos escribas, enquanto que a primeira ferramenta computacional conhecida, foi o **_Ábaco Sumérico_**, na **_Babilónia_**."
   ]
  },
  {
   "cell_type": "markdown",
   "metadata": {},
   "source": [
    "Estes eventos datam de _4.000_ anos atrás, e desde então, essas necessidades foram tornando-se mais cruciais do que nunca, na vida diária das pessoas, onde elas precisam de estarem conectadas no mundo inteiro."
   ]
  },
  {
   "cell_type": "markdown",
   "metadata": {},
   "source": [
    "A emergência da **_Criptografia_**, ao longo dos anos, obrigou a que fossem introduzidos os conceitos de:\n",
    "* **_Algoritmo de Encriptação_**:\n",
    "    * As regras para a _encriptação_ e _desencriptação_ da informação;\n",
    "* **_Chave Secreta_**:\n",
    "    * O parâmetro de entrada secreto do _algoritmo de encriptação_;"
   ]
  },
  {
   "cell_type": "markdown",
   "metadata": {},
   "source": [
    "Ao longo dos primeiros tempos até ao início do século XX, a popularidade da **_Criptografia_** aumentou bastante, com _primitivas criptográficas_ tornando-se cada vez mais fortes (i.e., mais difíceis de serem _forçadamente_ _desencriptadas_, sem autorização, normalmente referido como, sendo \"_quebradas_\" ou \"_crackadas_\", como demonstrado no exemplo anterior)."
   ]
  },
  {
   "cell_type": "markdown",
   "metadata": {},
   "source": [
    "As **_Cifras_** de **_Substituição_** e **_Transposição_**/**_Deslocação_** dominaram maior parte desta era, sendo o **_Deslocamento de César_**, a **_Substituição Poli-Alfabética_** ou as **_Cifras Vigenère_**, alguns notáveis exemplos disso."
   ]
  },
  {
   "cell_type": "markdown",
   "metadata": {},
   "source": [
    "Anos mais tarde, **_Thomas Young_** demonstrou que, a luz pode-se comportar como sendo ambas, _ondas_ e _partículas_, ao mesmo tempo, no seu **_Experimento da Dupla-Fenda_** \\[1, 2\\], em _1801_, e começou a desvendar a natureza probabilística dos fenómenos da **_Mecânica Quântica_**, no campo da física moderna."
   ]
  },
  {
   "cell_type": "markdown",
   "metadata": {},
   "source": [
    "No começo do século XX, em _1900_ e _1901_, **_Max Planck_** sugeriu que, a radiação, sendo, quer matéria ou luz, é quantizada, quantidades discretas \\[3-6\\], dando origem ao próprio termo de _quântica_, enquanto **_Albert Einstein_** propôs o conceito de _quantum de luz_, mais tarde conhecido como, _fotão_, como também, a observação da _dualidade de partícula-onda dos fotões_ \\[7-10\\], em _1905_ e _1906_."
   ]
  },
  {
   "cell_type": "markdown",
   "metadata": {},
   "source": [
    "No início da **_1ª Guerra Mundial_**, durante o evento do **_Telegrama de Zimmermann_**, foram introduzidos dois aspetos importantes na **_Criptografia_**, tais como, cada vez que uma _primitiva criptográfica_ é \"_quebrada_\", uma mais forte é desenvolvida e a revelação do sucesso em \"_quebrar_\" uma cifra leva tempo até fornece vantagem ao adversário, a partir da qual, surgiu o conceito de **_Criptanálise_**."
   ]
  },
  {
   "cell_type": "markdown",
   "metadata": {},
   "source": [
    "Em _1919_, **_Ernest Rutherford_** descobriu a primeira evidência de sempre para um _protão_, enquanto em _1924_, **_Louis de Broglie_** propôs que a _matéria_ tem propriedades de _onda_."
   ]
  },
  {
   "cell_type": "markdown",
   "metadata": {},
   "source": [
    "Por outro lado, **_Wolfgang Pauli_** formulou o _princípio da exclusão_ para _electrões_, num _átomo_, em _1925_ e, um ano mais tarde, **_Erwin Schrödinger_** desenvolveu a _mecânica das ondas_ e **_Max Born_** deu uma interpretação de probabilidades à **_Mecânica Quântica_** \\[11–15\\]."
   ]
  },
  {
   "cell_type": "markdown",
   "metadata": {},
   "source": [
    "Mais tarde, **_Werner Heisenberg_** formulou o **_Príncipio da  Relatividade_**, em _1927_, e **_Paul Dirac_** combinou a **_Mecânica Quântica_** e **_Relatividade Espacial_** de **_Albert Einstein_**, em _1928_, o que fez com que se tornassem beme estabelecidas, em _1930_, demonstrando quais são as _partículas fundamentais_ \\[16, 17\\]."
   ]
  },
  {
   "cell_type": "markdown",
   "metadata": {},
   "source": [
    "Em _1935_, **_Erwin Schrödinger_** propôs um experimento, conhecido como, o **_Gato do Schrodinger_**, para ilustrar a _superposição quântica_ e a **_Interpretação de Copenhaga_** da **_Mecânica Quântica_** \\[18\\]."
   ]
  },
  {
   "cell_type": "markdown",
   "metadata": {},
   "source": [
    "Ao mesmo tempo, também em 1935, foi testemunhada uma mudança de paradigma na **_Ciência da Informação_**, dada pela **_Tese de Church-Turing_**, onde a idéia das **_Máquinas de Turing_** (ou **_Computadores_**), foi formulada, como qualquer máquina que efetua métodos computacionais eficazes \\[19–22\\]."
   ]
  },
  {
   "cell_type": "markdown",
   "metadata": {},
   "source": [
    "Durante a **_2ª Guerra Mundial_**, a **_Criptografia_** foi relevante, com a **_Máquina de Enigma_**, sendo \"_quebrada_\" pela \"**_Bomba Criptográfica_**\" **_Polaca_**, mas isto foi apenas tornado público mais de _20_ anos depois."
   ]
  },
  {
   "cell_type": "markdown",
   "metadata": {},
   "source": [
    "Outros eventos marcantes, foram o desenvolvimento do **_Colossus_** **_Mark 1_** e **_Mark 2_**, em _1943_ e _1944_, respectivamente, a introdução da **_Arquitetura de von Neumann_**, por **_John von Neumann_**, em _1945_, como um modelo para arquiteturas de computadores, e o desenvolvimento do **_ENIAC_**, por **_John Eckert_** e **_John Mauchly_**, em _1946_, como o primeiro computador digital programável, eletrónico e de uso geral."
   ]
  },
  {
   "cell_type": "markdown",
   "metadata": {},
   "source": [
    "Uma grande contribuição para o crescimento do processamento computacional, foi a introdução dos **_Dispositivos Semi-Condutores_** e os **_Transistors_**, por **_John Bardeen_**, **_Walter Brattain_** e **_William Shockley_**, nos **_Bell Labs_**, em _1947_, que lhes valeu o **_Prémio Nobel_**, em _1956_, permitindo o estudo de problemas novos mais complexos, fazendo com que o campo da **_Teoria da Complexidade Computacional_** a emergir."
   ]
  },
  {
   "cell_type": "markdown",
   "metadata": {},
   "source": [
    "A **_ARPA_** (**_DARPA_**), foi lançada pelo **_Departamento de Defesa dos EUA_**, em _1958_, financiando também a **_ARPANET_**, entre _1962_ e _1966_, como a primeira _rede de comutação de pacotes_ de _área ampla_, permitindo o acesso a computadores remotos, levando ao início da própria **_Internet_**, enquanto em _1969_, a **_BNN_** desenvolveu os **_IMP_**s e então, foi enviada a primeira mensagem de sempre, através da **_Internet_**."
   ]
  },
  {
   "cell_type": "markdown",
   "metadata": {},
   "source": [
    "Em _1973_, o **_NBS_** (**_NIST_**) fez uma chamada pública para _primitivas criptográficas_ a serem adoptadas como o _padrão_ pelo **_Gonverno dos EUA_**, com o **_DES_** sendo aprovado e tornando-se o _padrão_ para _encriptação_, enquanto pela primeira vez de sempre, um _algoritmo de encriptação_ foi divulgado para análise pública."
   ]
  },
  {
   "cell_type": "markdown",
   "metadata": {},
   "source": [
    "Desde então, outras _primitivas criptográficas_ foram propostos, ao longo dos anos, tais como, **_AES_**, **_3DES_**, **_Twofish_**, **_Blowfish_**, **_Serpent_**, **_RC4_**, **_IDEA_** \\[23-26\\], conhecidas como, _cifras de chave simétrica_."
   ]
  },
  {
   "cell_type": "markdown",
   "metadata": {},
   "source": [
    "Em 1981, o **_NSF_** expandiu a **_ARPANET_** à comunidade da **_Ciência da Computação_**, quando fundou o **_CSNET_** e adotou o **_Protocolo TCP/IP_**, como um _padrão_, em _1983_."
   ]
  },
  {
   "cell_type": "markdown",
   "metadata": {},
   "source": [
    "Adicionalmente, a **_BBN_** assumiu a gestão de operações da **_CSNET_**, em _1984_, enquanto a **_ARPANET_** lançou o **_NSFNET_** em _1985_, com o objetivo de conectar todos os **_Departamentos de Ciência da Computação_**, ao longo dos **_EUA_**."
   ]
  },
  {
   "cell_type": "markdown",
   "metadata": {},
   "source": [
    "A **_Internet_** e as _comunicações_ tiveram um grande destaque em _1989_, quando **_Tim Berners-Lee_**, do **_CERN_**, criou o **_HTTP_**, como um _padrão_, propondo também, o conceito de **_WWW_** em _1990_."
   ]
  },
  {
   "cell_type": "markdown",
   "metadata": {},
   "source": [
    "No início do século XXI, foi sentido um grande problema de gestão, com o crescimento da indústria empresarial, devido ao aumento do número de _chaves secretas_ a serem distribuídas entre as empresas e seus clientes, nas quais, a entrega direta das _chaves secretas_, começou a ficar insuportável."
   ]
  },
  {
   "cell_type": "markdown",
   "metadata": {},
   "source": [
    "Uma solução para este problema foi antecipada por **_Whifield Diffie_**, **_Martin Hellman_** e **_Ralph Merkle_** em _1976_, apresentando o conceito de _distribuição de chave_ \\[27\\]."
   ]
  },
  {
   "cell_type": "markdown",
   "metadata": {},
   "source": [
    "Este conceito da _distribuição de chave_ era diferente do que é hoje considerado ser um _criptosistema de chave-pública_, ao usar _chaves assimétricas_ (_par de chaves_), onde uma chave é _pública_ e a outra é mantida _privada_."
   ]
  },
  {
   "cell_type": "markdown",
   "metadata": {},
   "source": [
    "Este procedimento, atualmente conhecido como a **_Troca de Chaves_** de **_Diffie-Hellman_**, tornou possível estabelecer chaves, sem a necessidade de os dois participantes partilharem informação prévia, \n",
    "com antecedência, permitindo uma troca de mensagens em público, garantindo ao mesmo tempo _confidenciabilidade_."
   ]
  },
  {
   "cell_type": "markdown",
   "metadata": {},
   "source": [
    "Em instância, ele usa uma _função_ _aritmética modular_ e _unilateral_ (1), da qual sua segurança depende principalmente das propriedades matemáticas do **_Problema de Logaritmo Discreto_** (2), que se acreditou ser um problema computacional difícil, ou um **_NP-Intermediário Problema_** (3) e, portanto, considerado difícil de se \"_quebrar_\"."
   ]
  },
  {
   "cell_type": "markdown",
   "metadata": {},
   "source": [
    "Mais tarde, em _1977_, **_Ronald Rivest_**, **_Adi Shamir_** e **_Leonard Adleman_**, também propôs o o **_Criptosistema RSA_** \\[28\\], estendendo o trabalho de **_Diffie_** e **_Hellman_**, onde a mesma chave \"_pública_\" seria usada por qualquer pessoa para comunicar em particular com um utilizador."
   ]
  },
  {
   "cell_type": "markdown",
   "metadata": {},
   "source": [
    "O **_Criptosistema RSA_** é baseado no **_Problema de Factorização_** (4), no qual a sua segurança, baseia-se na suposição matemática de que, se um _número primo_ _muito grande_ é usado no mesmo, então, será extremamente difícil calcular a sua _chave privada_, baseado no conhecimento da _chave pública_, numa quantidade razoável (não exponêncial) de tempo."
   ]
  },
  {
   "cell_type": "markdown",
   "metadata": {},
   "source": [
    "Desde então, outras _primitivas criptográficas_ notáveis foram propostas, tais como:\n",
    "* **_Assinaturas Digitais_**;\n",
    "* **_Criptografia de Curva-Elíptica_**;\n",
    "* **_Provas Interactivas_**;\n",
    "* **_Acordos Bizantinos_**;\n",
    "* **_Computações Multipartidas_**;\n",
    "* **_Criptomoedas_**;\n",
    "* **_Blockchains_**;\n",
    "* **_Encriptação Homomórfica_**;"
   ]
  },
  {
   "cell_type": "markdown",
   "metadata": {},
   "source": [
    "No entanto, a **_1ª Revolução Quântica_**, formulada por alguns nomes notáveis, como, **_Albert Einstein_**, **_Max Plank_**, **_Werner Heisenberg_**, **_Erwin Schrödinger_** ou **_Wolfgang Pauli_**, deu-nos novas regras que regem a realidade física, nos seus níveis _atómicos_ e _subatómicos_ fundamentais, durante o século XX."
   ]
  },
  {
   "cell_type": "markdown",
   "metadata": {},
   "source": [
    "Agora, no século XXI, a **_2ª Revolução Quântica_** está a aproveitar essas regras e está usando-as para desenvolver novas tecnologias poderosas, sendo a **_Computação Quântica_**, um dos exemplos mais notáveis disso."
   ]
  },
  {
   "cell_type": "markdown",
   "metadata": {},
   "source": [
    "Na verdade, o físico **_Richard Feynman_**, vencedor do **_Prémio Nobel_** em _1965_, afirmou, a certa altura, que a **_Computação Quântica_** seria o futuro da **_Ciência da Computação_**, ao aproveitar a aplicação da **_Mecânica Quântica_** à **_Ciência da Computação_** para processar informação e dados \\[54\\]."
   ]
  },
  {
   "cell_type": "markdown",
   "metadata": {},
   "source": [
    "A partir desta idéia, novos tópicos de investigação surgiram, tais como:\n",
    "* **_Criptografia Quântica_**;\n",
    "* **_Redes Quânticas_**/**_Internet Quântica_**;\n",
    "* **_Comunicações Quânticas_**;\n",
    "* **_Inteligência Artificial Quântica_**;\n",
    "* **_Teoria de Jogos Quântica_**;\n",
    "* **_Aprendizagem de Máquina Quântica_**;\n",
    "* **_Aprendizagem Profunda Quântica_**;\n",
    "* **_Cognição Quântica_**;\n",
    "* **_Optimização Quântica_**;\n",
    "* **_Simulação Quântica_**;"
   ]
  },
  {
   "cell_type": "markdown",
   "metadata": {},
   "source": [
    "Além disso, uma grande variedade de _algoritmos_ e _protocolos_ _quânticos_ foram desenvolvidos, razão pela qual, a **_UE_**, os **_EUA_** e a **_China_**, estão investindo fortemente em _tecnologias quânticas_, e com ótimos resultados já alcançados \\[60, 61\\]."
   ]
  },
  {
   "cell_type": "markdown",
   "metadata": {},
   "source": [
    "***"
   ]
  },
  {
   "cell_type": "markdown",
   "metadata": {},
   "source": [
    "### Acrónimos:\n",
    "* N/A"
   ]
  },
  {
   "cell_type": "markdown",
   "metadata": {},
   "source": [
    "***"
   ]
  },
  {
   "cell_type": "markdown",
   "metadata": {},
   "source": [
    "### Notas:\n",
    "1. N/A\n",
    "2. N/A\n",
    "3. N/A\n",
    "4. N/A"
   ]
  },
  {
   "cell_type": "markdown",
   "metadata": {},
   "source": [
    "***"
   ]
  },
  {
   "cell_type": "markdown",
   "metadata": {},
   "source": [
    "### Referências:\n",
    "* N/A"
   ]
  },
  {
   "cell_type": "markdown",
   "metadata": {},
   "source": [
    "***"
   ]
  },
  {
   "cell_type": "markdown",
   "metadata": {},
   "source": [
    "**Uma atualização em:** 27 de Junho, 2021\n",
    "\n",
    "**Autor:** _Rúben André Barreiro_\n",
    "\n",
    "**Adaptado da Dissertação/Tese de Mestrado:**\n",
    "* \"_Acordo de Chave de Conferência Semi-Quântico (ACCSQ)_\" - 2021\n",
    "\n",
    "**© Direitos de autoria Qiskrypt, 2021, todos os direitos reservados.**"
   ]
  },
  {
   "cell_type": "markdown",
   "metadata": {},
   "source": [
    "***"
   ]
  },
  {
   "cell_type": "markdown",
   "metadata": {},
   "source": [
    "<a rel=\"license\" href=\"http://creativecommons.org/licenses/by-nc-nd/4.0/\"><img alt=\"Creative Commons License\" style=\"border-width:0\" src=\"https://i.creativecommons.org/l/by-nc-nd/4.0/88x31.png\" /></a><br />Este trabalho está licenciado sobre uma <a rel=\"license\" href=\"http://creativecommons.org/licenses/by-nc-nd/4.0/\">Licensa Internacional da Creative Commons Attribution-NonCommercial-NoDerivatives 4.0</a>."
   ]
  }
 ],
 "metadata": {
  "kernelspec": {
   "display_name": "Python 3",
   "language": "python",
   "name": "python3"
  },
  "language_info": {
   "codemirror_mode": {
    "name": "ipython",
    "version": 3
   },
   "file_extension": ".py",
   "mimetype": "text/x-python",
   "name": "python",
   "nbconvert_exporter": "python",
   "pygments_lexer": "ipython3",
   "version": "3.8.5"
  }
 },
 "nbformat": 4,
 "nbformat_minor": 4
}
