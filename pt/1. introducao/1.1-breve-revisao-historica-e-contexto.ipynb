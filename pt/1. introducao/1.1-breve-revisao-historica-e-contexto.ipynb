{
 "cells": [
  {
   "cell_type": "code",
   "execution_count": 1,
   "metadata": {},
   "outputs": [
    {
     "data": {
      "text/html": [
       "<style>.container { width:100% !important; }</style>"
      ],
      "text/plain": [
       "<IPython.core.display.HTML object>"
      ]
     },
     "metadata": {},
     "output_type": "display_data"
    }
   ],
   "source": [
    "from IPython.core.display import display, HTML\n",
    "display(HTML(\"<style>.container { width:100% !important; }</style>\"))"
   ]
  },
  {
   "cell_type": "markdown",
   "metadata": {},
   "source": [
    "# 1.1. Breve Revisão Histórica e Contexto"
   ]
  },
  {
   "cell_type": "markdown",
   "metadata": {},
   "source": [
    "Desde os tempos antigos, que a humanidade sempre sentiu a necessidade de representar e trocar informação, em privado, o que fez com que alguns campos teóricos e ciêntificos emergissem, ao longo dos anos, tais como, **_Ciência da Informação_**, **_Ciência da Computação_**, **_Criptografia_** ou a própria **_Internet_**."
   ]
  },
  {
   "cell_type": "markdown",
   "metadata": {},
   "source": [
    "A partir da necessidade de trocar informação em privado, o campo de **_Criptografia_** emergiu como o estudo de técnicas de comunicação segura, permitindo apenas que o _emissor_ e um _receptor_ autorizado de uma mensagem, vejam o seu conteúdo, através de ambos os processos de:\n",
    "* **_Encriptação_**:\n",
    "    * Codificação de texto ordinário (também conhecido como, _texto em claro_), no que é conhecido como, _texto de cifra_ a ser enviado, que é o procedimento feito pelo _emissor_;\n",
    "* **_Desencriptação_**:\n",
    "    * Recuperação do _texto de cifra_ de volta ao seu estado original (i.e., o _texto em claro_), que é o procedimento feito pelo _receptor_;"
   ]
  },
  {
   "cell_type": "markdown",
   "metadata": {},
   "source": [
    "Um simples exemplo de **_Encriptação_** e **_Desencriptação_**, pode ser alcançado fazendo apenas _deslocações alfabéticas_ (tanto para a esquerda, como para a direita) nos caracteres do texto dado como parâmetro de entrada:\n",
    "* Para o processo de **_Encriptação_**:\n",
    "    * _Paramêtro de Entrada_: $m$ (_texto em claro_);\n",
    "    * _Operação de Transformação:_ $c = enc(m)$ (_deslocação de s=3 caractéres para a direita no alfabeto_);\n",
    "* Para o processo de **_Desencriptação_**:\n",
    "    * _Paramêtro de Entrada_: $c$ (_texto de cifra_);\n",
    "    * _Operação de Transformação:_ $m = dec(c)$ (_deslocação de s=3 caractéres para a esquerda no alfabeto_);"
   ]
  },
  {
   "cell_type": "markdown",
   "metadata": {},
   "source": [
    "**_NOTA_**:\n",
    "* Esta operação de _operação de transformação_ (_cifra_) também é conhecida como a **_Cifra de César_**;\n",
    "* Neste exemplo, é usado uma _deslocação_ de 3 _caracteres_, mas este parâmetro não precisa de ser obrigatoriamente _3_ e pode ser variável;"
   ]
  },
  {
   "cell_type": "markdown",
   "metadata": {},
   "source": [
    "Especificado o exemplo, ambos os processos de **_Encriptação_** e **_Desencriptação_** podem ser facilmente definidos em **_Python_**, como demonstrado de seguida."
   ]
  },
  {
   "cell_type": "markdown",
   "metadata": {},
   "source": [
    "Antes de mais, é necessário fazer a codificação de caractéres para valores inteiros décimais, de forma a operar os caractéres e as suas transformações em **_Python_**, segundo o _padrão_ do **_Código de ASCII_** (ver mais detalhes em: [https://pt.wikipedia.org/wiki/ASCII](https://pt.wikipedia.org/wiki/ASCII))."
   ]
  },
  {
   "cell_type": "markdown",
   "metadata": {},
   "source": [
    "Para isso, e sabendo que se está a trabalhar com _deslocações alfabéticas_, é necessário definir o _deslocamento_ inicial do alfabeto (i.e., para a primeira letra do mesmo), segundo o _padrão_ do **_Código de ASCII_**, em que:\n",
    "* Para a letra '**_A_**' (_maiúscula_), temos o _código_ _65_, em _décimal_;\n",
    "* Para a letra '**_a_**' (_minúscula_), temos o _código_ _97_, em _décimal_;"
   ]
  },
  {
   "cell_type": "code",
   "execution_count": 2,
   "metadata": {},
   "outputs": [
    {
     "name": "stdout",
     "output_type": "stream",
     "text": [
      "Codigo ASCII para o caractér 'A' (maiúscula):  65\n",
      "Codigo ASCII para o caractér 'a' (minúscula):  97\n"
     ]
    }
   ],
   "source": [
    "# Definição do Código ASCII para os caractéres 'A' (maiúscula) e 'a' (minúscula) \n",
    "CODIGO_ASCII_A_MAISCULA = ord(\"A\")\n",
    "CODIGO_ASCII_A_MINUSCULA = ord(\"a\")\n",
    "\n",
    "# Impressão do Código ASCII para os caractéres 'A' (maiúscula) e 'a' (minúscula) \n",
    "print(\"Codigo ASCII para o caractér 'A' (maiúscula): \", CODIGO_ASCII_A_MAISCULA)\n",
    "print(\"Codigo ASCII para o caractér 'a' (minúscula): \", CODIGO_ASCII_A_MINUSCULA)"
   ]
  },
  {
   "cell_type": "markdown",
   "metadata": {},
   "source": [
    "Adicionalmente, também se sabe que o alfabeto tem exatamente 26 caractéres e que a numeração décimal tem 10 digitos diferentes e distintos:"
   ]
  },
  {
   "cell_type": "code",
   "execution_count": 3,
   "metadata": {},
   "outputs": [],
   "source": [
    "# Definição do número de caractéres do alfabeto (i.e., 26 letras)\n",
    "NUMERO_CARACTERES_ALFABETO = 26\n",
    "\n",
    "# Definição do número de digítos da numeração décimal (i.e., 10 dígitos diferentes e distintos)\n",
    "NUMEROS_DIGITOS_DECIMAIS = 10"
   ]
  },
  {
   "cell_type": "markdown",
   "metadata": {},
   "source": [
    "Para a implementação do processo de **_Encriptação_** em **_Python_**, temos:"
   ]
  },
  {
   "cell_type": "code",
   "execution_count": 4,
   "metadata": {},
   "outputs": [],
   "source": [
    "# Função em Python para o processo de Encriptação, usando a Cifra de César,\n",
    "# dado um Texto em Claro e usando uma deslocação de s=3 caractéres alfabéticos,\n",
    "# por defeito, para a direita, de forma a obter-se o Texto de Cifra final\n",
    "def encriptacao_cifra_cesar(texto_em_claro, deslocacao=3):\n",
    "    \n",
    "    # Inicialização do Texto de Cifra\n",
    "    texto_de_cifra = \"\"\n",
    "    \n",
    "    # Percorre o Texto em Claro\n",
    "    for caracter_indice in range(len(texto_em_claro)):\n",
    "        \n",
    "        # Acesso ao caractér atual do Texto em Claro dado como parâmetro\n",
    "        caracter = texto_em_claro[caracter_indice]\n",
    "    \n",
    "        # Encripta o caractér atual, no caso de ser um maiúscula\n",
    "        if (caracter.isupper()):\n",
    "            \n",
    "            # Realiza a deslocação de s=3 caractéres alfabéticos, por defeito, para a direita,\n",
    "            # sobre o caracter atual do Texto em Claro\n",
    "            texto_de_cifra += chr(((ord(caracter) + deslocacao - CODIGO_ASCII_A_MAISCULA) % NUMERO_CARACTERES_ALFABETO) + CODIGO_ASCII_A_MAISCULA)\n",
    "        \n",
    "        # Encripta o caractér atual, no caso de ser um minúscula\n",
    "        elif (caracter.islower()):\n",
    "            \n",
    "            # Realiza a deslocação de s=3 caractéres alfabéticos, por defeito, para a direita,\n",
    "            # sobre o caracter atual do Texto em Claro\n",
    "            texto_de_cifra += chr(((ord(caracter) + deslocacao - CODIGO_ASCII_A_MINUSCULA) % NUMERO_CARACTERES_ALFABETO) + CODIGO_ASCII_A_MINUSCULA)\n",
    "  \n",
    "        elif (caracter.isdigit()):\n",
    "            texto_de_cifra += str(int(caracter) + deslocacao % NUMEROS_DIGITOS_DECIMAIS)\n",
    "            \n",
    "        else:\n",
    "            texto_de_cifra += caracter\n",
    "\n",
    "    # Retorna o Texto de Cifra final, depois da Encriptação\n",
    "    return texto_de_cifra"
   ]
  },
  {
   "cell_type": "markdown",
   "metadata": {},
   "source": [
    "Para a implementação do processo de **_Desencriptação_** em **_Python_**, temos:"
   ]
  },
  {
   "cell_type": "code",
   "execution_count": 5,
   "metadata": {},
   "outputs": [],
   "source": [
    "# Função em Python para o processo de Desencriptação, usando a Cifra de César,\n",
    "# dado um Texto de Cifra e usando uma deslocação de s=3 caractéres alfabéticos,\n",
    "# por defeito, para a esquerda, de forma a obter-se o Texto em Claro final\n",
    "def desencriptacao_cifra_cesar(texto_de_cifra, deslocacao=3):\n",
    "    \n",
    "    # Inicialização do Texto em Claro\n",
    "    texto_em_claro = \"\"\n",
    "    \n",
    "    # Percorre o Texto de Cifra\n",
    "    for caracter_indice in range(len(texto_de_cifra)):\n",
    "        \n",
    "        # Acesso ao caractér atual do Texto de Cifra dado como parâmetro\n",
    "        caracter = texto_de_cifra[caracter_indice]\n",
    "    \n",
    "        # Encripta o caractér atual, no caso de ser um maiúscula\n",
    "        if (caracter.isupper()):\n",
    "            \n",
    "            # Realiza a deslocação de s=3 caractéres alfabéticos, por defeito, para a esquerda,\n",
    "            # sobre o caracter atual do Texto em Claro\n",
    "            texto_em_claro += chr(((ord(caracter) - deslocacao - CODIGO_ASCII_A_MAISCULA) % NUMERO_CARACTERES_ALFABETO) + CODIGO_ASCII_A_MAISCULA)\n",
    "        \n",
    "        # Encripta o caractér atual, no caso de ser um minúscula\n",
    "        elif (caracter.islower()):\n",
    "            \n",
    "            # Realiza a deslocação de s=3 caractéres alfabéticos, por defeito, para a esquerda,\n",
    "            # sobre o caracter atual do Texto em Claro\n",
    "            texto_em_claro += chr(((ord(caracter) - deslocacao - CODIGO_ASCII_A_MINUSCULA) % NUMERO_CARACTERES_ALFABETO) + CODIGO_ASCII_A_MINUSCULA)\n",
    "        \n",
    "        elif (caracter.isdigit()):\n",
    "            texto_em_claro += str(int(caracter) - deslocacao % NUMEROS_DIGITOS_DECIMAIS)\n",
    "            \n",
    "        else:\n",
    "            texto_em_claro += caracter\n",
    "    # Retorna o Texto em Claro final, depois da Desencriptação\n",
    "    return texto_em_claro"
   ]
  },
  {
   "cell_type": "markdown",
   "metadata": {},
   "source": [
    "Agora, dado que já foram definidas as implementações de ambos os processos de **_Encriptação_** e **_Desencriptação_**, ao usar um _canal de comunicação_, agora já é possível transmitir _mensagens secretas_."
   ]
  },
  {
   "cell_type": "markdown",
   "metadata": {},
   "source": [
    "Podemos definir a implementação de uma função em **_Python_** simples, para enviar uma _mensagem secreta_, através de um _canal de comunicação_, da seguinte forma:"
   ]
  },
  {
   "cell_type": "code",
   "execution_count": 6,
   "metadata": {},
   "outputs": [],
   "source": [
    "def enviar_mensagem_secreta_usando_cifra_cesar(nome_emissor, nome_receptor, mensagem):\n",
    "    \n",
    "    print(\"\\n\\n--- Demonstração simples do envio de uma mensagem secreta, usando a Cifra de César ---\\n\\n\")\n",
    "    \n",
    "    print(f\"O Emissor ({nome_emissor}) quer enviar a seguinte mensagem ao Receptor ({nome_receptor}):\\n - \\\"{mensagem}\\\" ...\\n\")\n",
    "    \n",
    "    texto_cifra = encriptacao_cifra_cesar(mensagem)\n",
    "    \n",
    "    print(f\"O Emissor ({nome_emissor}) encripta a mensagem original a enviar (i.e., o texto em claro)...\\n\")\n",
    "    \n",
    "    print(f\"Encriptação da mensagem original a enviar (i.e., texto em claro):\\n - \\\"{mensagem}\\\" --> \\\"{texto_cifra}\\\"\\n\")\n",
    "    \n",
    "    print(f\"Envio da mensagem encriptada, através do canal de comunicação, do Emissor ({nome_emissor}) para o Receptor ({nome_receptor})...\\n\")\n",
    "    \n",
    "    print(f\"O Receptor (%s) recebe a mensagem encriptada recebida (i.e., o texto de cifra)...\\n\")\n",
    "    \n",
    "    texto_em_claro = desencriptacao_cifra_cesar(texto_cifra)\n",
    "    \n",
    "    print(f\"O Receptor ({nome_receptor}) desencripta a mensagem encriptada recebida (i.e., o texto de cifra)...\\n\")\n",
    "\n",
    "    print(f\"Desencriptação da mensagem encriptada recebida (i.e., texto de cifra):\\n \\\"{texto_cifra}\\\" --> \\\"{texto_em_claro}\\\"\")\n",
    "    \n",
    "    print(\"\\n\\n--- Fim da Demonstração simples do envio de uma mensagem secreta, usando a Cifra de César ---\\n\\n\")"
   ]
  },
  {
   "cell_type": "markdown",
   "metadata": {},
   "source": [
    "Por fim, pode-se usar a função implementada em **_Python_**, aplicada a um simples exemplo real."
   ]
  },
  {
   "cell_type": "markdown",
   "metadata": {},
   "source": [
    "Imagine-se o seguinte cenário:\n",
    "* A **_Alice_** é o **_Emissor_**;\n",
    "* O **_Bob_** é o **_Receptor_**;\n",
    "* A **_Alice_** pretende enviar ao **_Bob_**, a seguinte mensagem secreta \"_Longa vida ao Imperador César!!!_\";"
   ]
  },
  {
   "cell_type": "markdown",
   "metadata": {},
   "source": [
    "Primeiro, têm que ser definidos os ingredientes fundamentais desta demonstração:"
   ]
  },
  {
   "cell_type": "code",
   "execution_count": 7,
   "metadata": {},
   "outputs": [],
   "source": [
    "# Definição do nome do Emissor\n",
    "NOME_EMISSOR = \"Alice\"\n",
    "\n",
    "# Definição do nome do Receptor\n",
    "NOME_RECEPTOR = \"Bob\"\n",
    "\n",
    "# Definição da mensagem, que a Alice pretende enviar ao Bob, de forma secreta\n",
    "MENSAGEM = \"Longa vida ao Imperador Cesar!!!\""
   ]
  },
  {
   "cell_type": "markdown",
   "metadata": {},
   "source": [
    "Agora a **_Alice_** procede ao envio da mensagem ao **_Bob_**, de forma secreta, usando a função implementada anteriormente em **_Python_**:"
   ]
  },
  {
   "cell_type": "code",
   "execution_count": 8,
   "metadata": {},
   "outputs": [
    {
     "name": "stdout",
     "output_type": "stream",
     "text": [
      "\n",
      "\n",
      "--- Demonstração simples do envio de uma mensagem secreta, usando a Cifra de César ---\n",
      "\n",
      "\n",
      "O Emissor (Alice) quer enviar a seguinte mensagem ao Receptor (Bob):\n",
      " - \"Longa vida ao Imperador Cesar!!!\" ...\n",
      "\n",
      "O Emissor (Alice) encripta a mensagem original a enviar (i.e., o texto em claro)...\n",
      "\n",
      "Encriptação da mensagem original a enviar (i.e., texto em claro):\n",
      " - \"Longa vida ao Imperador Cesar!!!\" --> \"Orqjd ylgd dr Lpshudgru Fhvdu!!!\"\n",
      "\n",
      "Envio da mensagem encriptada, através do canal de comunicação, do Emissor (Alice) para o Receptor (Bob)...\n",
      "\n",
      "O Receptor (%s) recebe a mensagem encriptada recebida (i.e., o texto de cifra)...\n",
      "\n",
      "O Receptor (Bob) desencripta a mensagem encriptada recebida (i.e., o texto de cifra)...\n",
      "\n",
      "Desencriptação da mensagem encriptada recebida (i.e., texto de cifra):\n",
      " \"Orqjd ylgd dr Lpshudgru Fhvdu!!!\" --> \"Longa vida ao Imperador Cesar!!!\"\n",
      "\n",
      "\n",
      "--- Fim da Demonstração simples do envio de uma mensagem secreta, usando a Cifra de César ---\n",
      "\n",
      "\n"
     ]
    }
   ],
   "source": [
    "enviar_mensagem_secreta_usando_cifra_cesar(NOME_EMISSOR, NOME_RECEPTOR, MENSAGEM)"
   ]
  },
  {
   "cell_type": "markdown",
   "metadata": {},
   "source": [
    "Na verdade, primeira evidência da **_Criptografia_** veio dos **_Egípcios Antigos_**, com **_Hieróglifos_** e **_Pictogramas_** complexos, para escrever mensagens secretas, onde a codificação secreta era apenas conhecido pelos escribas, enquanto que a primeira ferramenta computacional conhecida, foi o **_Ábaco Sumérico_**, na **_Babilónia_**."
   ]
  },
  {
   "cell_type": "markdown",
   "metadata": {},
   "source": [
    "Estes eventos datam de _4.000_ anos atrás, e desde então, essas necessidades foram tornando-se mais cruciais do que nunca, na vida diária das pessoas, onde elas precisam de estarem conectadas no mundo inteiro."
   ]
  },
  {
   "cell_type": "markdown",
   "metadata": {},
   "source": [
    "A emergência da **_Criptografia_**, ao longo dos anos, obrigou a que fossem introduzidos os conceitos de:\n",
    "* **_Algoritmo de Encriptação_**:\n",
    "    * As regras para a _encriptação_ e _desencriptação_ da informação;\n",
    "* **_Chave Secreta_**:\n",
    "    * O parâmetro de entrada secreto do _algoritmo de encriptação_;"
   ]
  },
  {
   "cell_type": "markdown",
   "metadata": {},
   "source": [
    "***"
   ]
  },
  {
   "cell_type": "markdown",
   "metadata": {},
   "source": [
    "### Acrónimos:\n",
    "* N/A"
   ]
  },
  {
   "cell_type": "markdown",
   "metadata": {},
   "source": [
    "***"
   ]
  },
  {
   "cell_type": "markdown",
   "metadata": {},
   "source": [
    "### Notas:\n",
    "1. N/A\n",
    "2. N/A\n",
    "3. N/A\n",
    "4. N/A"
   ]
  },
  {
   "cell_type": "markdown",
   "metadata": {},
   "source": [
    "***"
   ]
  },
  {
   "cell_type": "markdown",
   "metadata": {},
   "source": [
    "### Referências:\n",
    "* N/A"
   ]
  },
  {
   "cell_type": "markdown",
   "metadata": {},
   "source": [
    "***"
   ]
  },
  {
   "cell_type": "markdown",
   "metadata": {},
   "source": [
    "**Uma atualização em:** 26 de Junho, 2021\n",
    "\n",
    "**Autor:** _Rúben André Barreiro_\n",
    "\n",
    "**Adaptado da Dissertação/Tese de Mestrado:**\n",
    "* \"_Acordo de Chave de Conferência Semi-Quântico (ACCSQ)_\" - 2021\n",
    "\n",
    "**© Direitos de autoria Qiskrypt, 2021, todos os direitos reservados.**"
   ]
  },
  {
   "cell_type": "markdown",
   "metadata": {},
   "source": [
    "***"
   ]
  },
  {
   "cell_type": "markdown",
   "metadata": {},
   "source": [
    "<a rel=\"license\" href=\"http://creativecommons.org/licenses/by-nc-nd/4.0/\"><img alt=\"Creative Commons License\" style=\"border-width:0\" src=\"https://i.creativecommons.org/l/by-nc-nd/4.0/88x31.png\" /></a><br />Este trabalho está licenciado sobre uma <a rel=\"license\" href=\"http://creativecommons.org/licenses/by-nc-nd/4.0/\">Licensa Internacional da Creative Commons Attribution-NonCommercial-NoDerivatives 4.0</a>."
   ]
  }
 ],
 "metadata": {
  "kernelspec": {
   "display_name": "Python 3",
   "language": "python",
   "name": "python3"
  },
  "language_info": {
   "codemirror_mode": {
    "name": "ipython",
    "version": 3
   },
   "file_extension": ".py",
   "mimetype": "text/x-python",
   "name": "python",
   "nbconvert_exporter": "python",
   "pygments_lexer": "ipython3",
   "version": "3.8.5"
  }
 },
 "nbformat": 4,
 "nbformat_minor": 4
}
