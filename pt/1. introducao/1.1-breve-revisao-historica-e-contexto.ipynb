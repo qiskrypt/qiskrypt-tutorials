{
 "cells": [
  {
   "cell_type": "code",
   "execution_count": 1,
   "metadata": {},
   "outputs": [
    {
     "data": {
      "text/html": [
       "<style>.container { width:100% !important; }</style>"
      ],
      "text/plain": [
       "<IPython.core.display.HTML object>"
      ]
     },
     "metadata": {},
     "output_type": "display_data"
    }
   ],
   "source": [
    "from IPython.core.display import display, HTML\n",
    "display(HTML(\"<style>.container { width:100% !important; }</style>\"))"
   ]
  },
  {
   "cell_type": "markdown",
   "metadata": {},
   "source": [
    "# 1.1. Breve Revisão Histórica e Contexto"
   ]
  },
  {
   "cell_type": "markdown",
   "metadata": {},
   "source": [
    "Desde os tempos antigos, que a humanidade sempre sentiu a necessidade de representar e trocar informação, em privado, o que fez com que alguns campos teóricos e ciêntificos emergissem, ao longo dos anos, tais como, **_Ciência da Informação_**, **_Ciência da Computação_**, **_Criptografia_** ou a própria **_Internet_**."
   ]
  },
  {
   "cell_type": "markdown",
   "metadata": {},
   "source": [
    "A partir da necessidade de trocar informação em privado, o campo de **_Criptografia_** emergiu como o estudo de técnicas de comunicação segura, permitindo apenas que o _emissor_ e um _receptor_ autorizado de uma mensagem, vejam o seu conteúdo, através de ambos os processos de:\n",
    "* **_Encriptação_**:\n",
    "    * Codificação de texto ordinário (também conhecido como, _texto em claro_), no que é conhecido como, _texto de cifra_ a ser enviado, que é o procedimento feito pelo _emissor_;\n",
    "* **_Desencriptação_**:\n",
    "    * Recuperação do _texto de cifra_ de volta ao seu estado original (i.e., o _texto em claro_), que é o procedimento feito pelo _receptor_;"
   ]
  },
  {
   "cell_type": "markdown",
   "metadata": {},
   "source": [
    "Um simples exemplo de **_Encriptação_** e **_Desencriptação_**, pode ser alcançado fazendo apenas _deslocações alfabéticas_ (tanto para a esquerda, como para a direita) nos caracteres do texto dado como parâmetro de entrada:\n",
    "* Para o processo de **_Encriptação_**:\n",
    "    * _Paramêtro de Entrada_: $m$ (_texto em claro_);\n",
    "    * _Operação de Transformação:_ $c = enc(m)$ (_deslocação de s=3 caractéres para a direita no alfabeto_);\n",
    "* Para o processo de **_Desencriptação_**:\n",
    "    * _Paramêtro de Entrada_: $c$ (_texto de cifra_);\n",
    "    * _Operação de Transformação:_ $m = dec(c)$ (_deslocação de s=3 caractéres para a esquerda no alfabeto_);"
   ]
  },
  {
   "cell_type": "markdown",
   "metadata": {},
   "source": [
    "**_NOTA_**:\n",
    "* Esta operação de _operação de transformação_ (_cifra_) também é conhecida como a **_Cifra de César_**;\n",
    "* Neste exemplo, é usado uma _deslocação_ de 3 _caracteres_, mas este parâmetro não precisa de ser obrigatoriamente _3_ e pode ser variável;"
   ]
  },
  {
   "cell_type": "markdown",
   "metadata": {},
   "source": [
    "Especificado o exemplo, ambos os processos de **_Encriptação_** e **_Desencriptação_** podem ser facilmente definidos em **_Python_**, como demonstrado de seguida."
   ]
  },
  {
   "cell_type": "markdown",
   "metadata": {},
   "source": [
    "Antes de mais, é necessário fazer a codificação de caractéres para valores inteiros décimais, de forma a operar os caractéres e as suas transformações em **_Python_**, segundo o _padrão_ do **_Código de ASCII_** (ver mais detalhes em: [https://pt.wikipedia.org/wiki/ASCII](https://pt.wikipedia.org/wiki/ASCII))."
   ]
  },
  {
   "cell_type": "markdown",
   "metadata": {},
   "source": [
    "Para isso, e sabendo que se está a trabalhar com _deslocações alfabéticas_, é necessário definir o _deslocamento_ inicial do alfabeto (i.e., para a primeira letra do mesmo), segundo o _padrão_ do **_Código de ASCII_**, em que:\n",
    "* Para a letra '**_A_**' (_maiúscula_), temos o _código_ _65_, em _décimal_;\n",
    "* Para a letra '**_a_**' (_minúscula_), temos o _código_ _97_, em _décimal_;"
   ]
  },
  {
   "cell_type": "code",
   "execution_count": 2,
   "metadata": {},
   "outputs": [
    {
     "name": "stdout",
     "output_type": "stream",
     "text": [
      "Codigo ASCII para o caractér 'A' (maiúscula):  65\n",
      "Codigo ASCII para o caractér 'a' (minúscula):  97\n"
     ]
    }
   ],
   "source": [
    "# Definição do Código ASCII para os caractéres 'A' (maiúscula) e 'a' (minúscula) \n",
    "CODIGO_ASCII_A_MAISCULA = ord(\"A\")\n",
    "CODIGO_ASCII_A_MINUSCULA = ord(\"a\")\n",
    "\n",
    "# Impressão do Código ASCII para os caractéres 'A' (maiúscula) e 'a' (minúscula) \n",
    "print(\"Codigo ASCII para o caractér 'A' (maiúscula): \", CODIGO_ASCII_A_MAISCULA)\n",
    "print(\"Codigo ASCII para o caractér 'a' (minúscula): \", CODIGO_ASCII_A_MINUSCULA)"
   ]
  },
  {
   "cell_type": "markdown",
   "metadata": {},
   "source": [
    "Adicionalmente, também se sabe que o alfabeto tem exatamente 26 caractéres e que a numeração décimal tem 10 digitos diferentes e distintos:"
   ]
  },
  {
   "cell_type": "code",
   "execution_count": 3,
   "metadata": {},
   "outputs": [],
   "source": [
    "# Definição do número de caractéres do alfabeto (i.e., 26 letras)\n",
    "NUMERO_CARACTERES_ALFABETO = 26\n",
    "\n",
    "# Definição do número de digítos da numeração décimal (i.e., 10 dígitos diferentes e distintos)\n",
    "NUMEROS_DIGITOS_DECIMAIS = 10"
   ]
  },
  {
   "cell_type": "markdown",
   "metadata": {},
   "source": [
    "Para a implementação do processo de **_Encriptação_** em **_Python_**, temos:"
   ]
  },
  {
   "cell_type": "code",
   "execution_count": 4,
   "metadata": {},
   "outputs": [],
   "source": [
    "# Função em Python para o processo de Encriptação, usando a Cifra de César,\n",
    "# dado um Texto em Claro e usando uma deslocação de s=3 caractéres alfabéticos,\n",
    "# por defeito, para a direita, de forma a obter-se o Texto de Cifra final\n",
    "def encriptacao_cifra_cesar(texto_em_claro, deslocacao=3):\n",
    "    \n",
    "    # Inicialização do Texto de Cifra\n",
    "    texto_de_cifra = \"\"\n",
    "    \n",
    "    # Percorre o Texto em Claro\n",
    "    for caracter_indice in range(len(texto_em_claro)):\n",
    "        \n",
    "        # Acesso ao caractér atual do Texto em Claro dado como parâmetro\n",
    "        caracter = texto_em_claro[caracter_indice]\n",
    "    \n",
    "        # Encripta o caractér atual, no caso de ser um maiúscula\n",
    "        if (caracter.isupper()):\n",
    "            \n",
    "            # Realiza a deslocação de s=3 caractéres alfabéticos, por defeito, para a direita,\n",
    "            # sobre o caracter atual do Texto em Claro\n",
    "            texto_de_cifra += chr(((ord(caracter) + deslocacao - CODIGO_ASCII_A_MAISCULA) % NUMERO_CARACTERES_ALFABETO) + CODIGO_ASCII_A_MAISCULA)\n",
    "        \n",
    "        # Encripta o caractér atual, no caso de ser um minúscula\n",
    "        elif (caracter.islower()):\n",
    "            \n",
    "            # Realiza a deslocação de s=3 caractéres alfabéticos, por defeito, para a direita,\n",
    "            # sobre o caracter atual do Texto em Claro\n",
    "            texto_de_cifra += chr(((ord(caracter) + deslocacao - CODIGO_ASCII_A_MINUSCULA) % NUMERO_CARACTERES_ALFABETO) + CODIGO_ASCII_A_MINUSCULA)\n",
    "  \n",
    "        elif (caracter.isdigit()):\n",
    "            texto_de_cifra += str(int(caracter) + deslocacao % NUMEROS_DIGITOS_DECIMAIS)\n",
    "            \n",
    "        else:\n",
    "            texto_de_cifra += caracter\n",
    "\n",
    "    # Retorna o Texto de Cifra final, depois da Encriptação\n",
    "    return texto_de_cifra"
   ]
  },
  {
   "cell_type": "markdown",
   "metadata": {},
   "source": [
    "Para a implementação do processo de **_Desencriptação_** em **_Python_**, temos:"
   ]
  },
  {
   "cell_type": "code",
   "execution_count": 5,
   "metadata": {},
   "outputs": [],
   "source": [
    "# Função em Python para o processo de Desencriptação, usando a Cifra de César,\n",
    "# dado um Texto de Cifra e usando uma deslocação de s=3 caractéres alfabéticos,\n",
    "# por defeito, para a esquerda, de forma a obter-se o Texto em Claro final\n",
    "def desencriptacao_cifra_cesar(texto_de_cifra, deslocacao=3):\n",
    "    \n",
    "    # Inicialização do Texto em Claro\n",
    "    texto_em_claro = \"\"\n",
    "    \n",
    "    # Percorre o Texto de Cifra\n",
    "    for caracter_indice in range(len(texto_de_cifra)):\n",
    "        \n",
    "        # Acesso ao caractér atual do Texto de Cifra dado como parâmetro\n",
    "        caracter = texto_de_cifra[caracter_indice]\n",
    "    \n",
    "        # Encripta o caractér atual, no caso de ser um maiúscula\n",
    "        if (caracter.isupper()):\n",
    "            \n",
    "            # Realiza a deslocação de s=3 caractéres alfabéticos, por defeito, para a esquerda,\n",
    "            # sobre o caracter atual do Texto em Claro\n",
    "            texto_em_claro += chr(((ord(caracter) - deslocacao - CODIGO_ASCII_A_MAISCULA) % NUMERO_CARACTERES_ALFABETO) + CODIGO_ASCII_A_MAISCULA)\n",
    "        \n",
    "        # Encripta o caractér atual, no caso de ser um minúscula\n",
    "        elif (caracter.islower()):\n",
    "            \n",
    "            # Realiza a deslocação de s=3 caractéres alfabéticos, por defeito, para a esquerda,\n",
    "            # sobre o caracter atual do Texto em Claro\n",
    "            texto_em_claro += chr(((ord(caracter) - deslocacao - CODIGO_ASCII_A_MINUSCULA) % NUMERO_CARACTERES_ALFABETO) + CODIGO_ASCII_A_MINUSCULA)\n",
    "        \n",
    "        elif (caracter.isdigit()):\n",
    "            texto_em_claro += str(int(caracter) - deslocacao % NUMEROS_DIGITOS_DECIMAIS)\n",
    "            \n",
    "        else:\n",
    "            texto_em_claro += caracter\n",
    "    # Retorna o Texto em Claro final, depois da Desencriptação\n",
    "    return texto_em_claro"
   ]
  },
  {
   "cell_type": "markdown",
   "metadata": {},
   "source": [
    "Agora, dado que já foram definidas as implementações de ambos os processos de **_Encriptação_** e **_Desencriptação_**, ao usar um _canal de comunicação_, agora já é possível transmitir _mensagens secretas_."
   ]
  },
  {
   "cell_type": "markdown",
   "metadata": {},
   "source": [
    "### Exemplo #1 - Envio de mensagem secreta"
   ]
  },
  {
   "cell_type": "markdown",
   "metadata": {},
   "source": [
    "Imagine-se o seguinte cenário:\n",
    "* A **_Alice_** é o **_Emissor_**;\n",
    "* O **_Bob_** é o **_Receptor_**;\n",
    "* A **_Alice_** pretende enviar ao **_Bob_**, a seguinte mensagem secreta \"_Longa vida ao Imperador Cesar!!!_\";"
   ]
  },
  {
   "cell_type": "markdown",
   "metadata": {},
   "source": [
    "Primeiro, têm que ser definidos os ingredientes fundamentais desta demonstração:"
   ]
  },
  {
   "cell_type": "code",
   "execution_count": 6,
   "metadata": {},
   "outputs": [],
   "source": [
    "# Definição do nome do Emissor\n",
    "NOME_EMISSOR = \"Alice\"\n",
    "\n",
    "# Definição do nome do Receptor\n",
    "NOME_RECEPTOR = \"Bob\"\n",
    "\n",
    "# Definição da mensagem, que a Alice pretende enviar ao Bob, de forma secreta\n",
    "MENSAGEM = \"Longa vida ao Imperador Cesar!!!\""
   ]
  },
  {
   "cell_type": "markdown",
   "metadata": {},
   "source": [
    "Podemos definir a implementação de uma função em **_Python_** simples, para enviar uma _mensagem secreta_, através de um _canal de comunicação_, da seguinte forma:"
   ]
  },
  {
   "cell_type": "code",
   "execution_count": 7,
   "metadata": {},
   "outputs": [],
   "source": [
    "# Função para enviar uma mensagem secreta, de um Emissor para um Receptor, usando a Cifra de César,\n",
    "# para os processos de Encriptação e Desencriptação da mensagem\n",
    "def enviar_mensagem_secreta_usando_cifra_cesar(nome_emissor, nome_receptor, mensagem):\n",
    "    \n",
    "    # Impressão do cabeçalho da demonstração do envio de uma mensagem secreta\n",
    "    print(\"\\n\\n--- Demonstração simples do envio de uma mensagem secreta, usando a Cifra de César ---\\n\\n\")\n",
    "    \n",
    "    # O Emissor quer enviar a mensagem secreta ao Receptor\n",
    "    print(f\"O Emissor ({nome_emissor}) quer enviar a seguinte mensagem ao Receptor ({nome_receptor}):\\n - \\\"{mensagem}\\\" ...\\n\")\n",
    "    \n",
    "    # Encriptação da mensagem secreta, usando a Cifra de César\n",
    "    texto_cifra = encriptacao_cifra_cesar(mensagem)\n",
    "    \n",
    "    # O Emissor encripta a mensagem secreta original a enviar\n",
    "    print(f\"O Emissor ({nome_emissor}) encripta a mensagem secreta original a enviar (i.e., o texto em claro)...\\n\")\n",
    "    \n",
    "    # A transformação da mensagem secreta original no Texto de Cifra\n",
    "    print(f\"Encriptação da mensagem secreta original a enviar (i.e., texto em claro):\\n - \\\"{mensagem}\\\" --> \\\"{texto_cifra}\\\"\\n\")\n",
    "    \n",
    "    # Envio da mensagem encripta do Emissor ao Receptor\n",
    "    print(f\"Envio da mensagem encriptada, através do canal de comunicação, do Emissor ({nome_emissor}) para o Receptor ({nome_receptor})...\\n\")\n",
    "    \n",
    "    # O Receptor recebe a mensagem encriptada\n",
    "    print(f\"O Receptor ({nome_receptor}) recebe a mensagem encriptada (i.e., o texto de cifra)...\\n\")\n",
    "    \n",
    "    # Desencriptação da mensagem secreta, usando a Cifra de César\n",
    "    texto_em_claro = desencriptacao_cifra_cesar(texto_cifra)\n",
    "    \n",
    "    # O Emissor encripta a mensagem secreta encriptada recebida\n",
    "    print(f\"O Receptor ({nome_receptor}) desencripta a mensagem encriptada recebida (i.e., o texto de cifra)...\\n\")\n",
    "\n",
    "    # A transformação da mensagem secreta encriptada no Texto em Claro\n",
    "    print(f\"Desencriptação da mensagem encriptada recebida (i.e., texto de cifra):\\n \\\"{texto_cifra}\\\" --> \\\"{texto_em_claro}\\\"\")\n",
    "    \n",
    "    # Impressão do rodapé da demonstração do envio de uma mensagem secreta\n",
    "    print(\"\\n\\n--- Fim da Demonstração simples do envio de uma mensagem secreta, usando a Cifra de César ---\\n\\n\")"
   ]
  },
  {
   "cell_type": "markdown",
   "metadata": {},
   "source": [
    "Agora, a **_Alice_** procede ao envio da mensagem ao **_Bob_**, de forma secreta, usando a função implementada anteriormente em **_Python_**:"
   ]
  },
  {
   "cell_type": "code",
   "execution_count": 8,
   "metadata": {},
   "outputs": [
    {
     "name": "stdout",
     "output_type": "stream",
     "text": [
      "\n",
      "\n",
      "--- Demonstração simples do envio de uma mensagem secreta, usando a Cifra de César ---\n",
      "\n",
      "\n",
      "O Emissor (Alice) quer enviar a seguinte mensagem ao Receptor (Bob):\n",
      " - \"Longa vida ao Imperador Cesar!!!\" ...\n",
      "\n",
      "O Emissor (Alice) encripta a mensagem secreta original a enviar (i.e., o texto em claro)...\n",
      "\n",
      "Encriptação da mensagem secreta original a enviar (i.e., texto em claro):\n",
      " - \"Longa vida ao Imperador Cesar!!!\" --> \"Orqjd ylgd dr Lpshudgru Fhvdu!!!\"\n",
      "\n",
      "Envio da mensagem encriptada, através do canal de comunicação, do Emissor (Alice) para o Receptor (Bob)...\n",
      "\n",
      "O Receptor (Bob) recebe a mensagem encriptada (i.e., o texto de cifra)...\n",
      "\n",
      "O Receptor (Bob) desencripta a mensagem encriptada recebida (i.e., o texto de cifra)...\n",
      "\n",
      "Desencriptação da mensagem encriptada recebida (i.e., texto de cifra):\n",
      " \"Orqjd ylgd dr Lpshudgru Fhvdu!!!\" --> \"Longa vida ao Imperador Cesar!!!\"\n",
      "\n",
      "\n",
      "--- Fim da Demonstração simples do envio de uma mensagem secreta, usando a Cifra de César ---\n",
      "\n",
      "\n"
     ]
    }
   ],
   "source": [
    "# Envio da mensagem secreta, usando a Cifra de César\n",
    "enviar_mensagem_secreta_usando_cifra_cesar(NOME_EMISSOR, NOME_RECEPTOR, MENSAGEM)"
   ]
  },
  {
   "cell_type": "markdown",
   "metadata": {},
   "source": [
    "No entanto, também é facilmente perceptível neste exemplo de cenário que, caso um terceiro interveniente tenha conhecimento do _deslocamento alfabético_ usado em ambos os processos de **_Encriptação_** e **_Desencriptação_** e, conseguir de alguma forma, interceptar a mensagem secreta, no decorrer da sua transmissão pelo _canal de comunicação_ em uso, o mesmo poderá ter acesso ao conteúdo da mensagem secreta, ou até, alterá-lo e reenviar a mensagem secreta modificada."
   ]
  },
  {
   "cell_type": "markdown",
   "metadata": {},
   "source": [
    "Em seguida, é demonstrado o exemplo de um cenário, onde esta situação se verifica facilmente."
   ]
  },
  {
   "cell_type": "markdown",
   "metadata": {},
   "source": [
    "### Exemplo #2 - Envio de mensagem secreta, interceptada e modificada por um Atacante"
   ]
  },
  {
   "cell_type": "markdown",
   "metadata": {},
   "source": [
    "Imagine-se o seguinte cenário:\n",
    "* A **_Alice_** é o **_Emissor_**;\n",
    "* O **_Bob_** é o **_Receptor_**;\n",
    "* A **_Alice_** pretende enviar ao **_Bob_**, a seguinte mensagem secreta \"_Longa vida ao Imperador Cesar!!!_\";\n",
    "* A **_Alice_** e o **_Bob_** têm um _segredo partilhado_, que neste caso, é a _deslocação alfabética_, _s=3_;\n",
    "* A **_Eva_** é o **_Atacante_**;\n",
    "* A **_Eva_** também tem conhecimento do _segredo partilhado_ entre a **_Alice_** e o **_Bob_**;\n",
    "* A **_Eva_** vai interceptar a mensagem enviada para o **_Bob_**;\n",
    "* A **_Eva_** vai modificar o conteúdo da mensagem secreta de \"_Longa vida ao Imperador Cesar!!!_\" para \"_Longa vida ao Imperador Pompeu!!!_\";\n",
    "* A **_Eva_** envia a mensagem secreta modificada para o **_Bob_** (fazendo-se passar pela **_Alice_**), de forma que nem a **_Alice_** nem o **_Bob_** desconfiem de nada;"
   ]
  },
  {
   "cell_type": "markdown",
   "metadata": {},
   "source": [
    "Uma vez mais, têm que ser definidos os ingredientes fundamentais desta demonstração:"
   ]
  },
  {
   "cell_type": "code",
   "execution_count": 9,
   "metadata": {},
   "outputs": [],
   "source": [
    "# Definição do nome do Emissor\n",
    "NOME_EMISSOR = \"Alice\"\n",
    "\n",
    "# Definição do nome do Receptor\n",
    "NOME_RECEPTOR = \"Bob\"\n",
    "\n",
    "# Definição do nome do Atacante\n",
    "NOME_ATACANTE = \"Eva\"\n",
    "\n",
    "# Definição da mensagem, que a Alice pretende enviar ao Bob, de forma secreta e que a Eva pretende interceptar\n",
    "MENSAGEM = \"Longa vida ao Imperador Cesar!!!\""
   ]
  },
  {
   "cell_type": "markdown",
   "metadata": {},
   "source": [
    "Podemos definir a implementação de uma função em **_Python_** simples, para enviar uma _mensagem secreta_, através de um _canal de comunicação_ e que é interceptada e modificada por um **_Atacante_**, da seguinte forma:"
   ]
  },
  {
   "cell_type": "code",
   "execution_count": 10,
   "metadata": {},
   "outputs": [],
   "source": [
    "# Função para enviar uma mensagem secreta, de um Emissor para um Receptor, usando a Cifra de César,\n",
    "# para os processos de Encriptação e Desencriptação da mensagem, e interceptada por um Atacante\n",
    "def enviar_mensagem_secreta_usando_cifra_cesar_com_intercepcao(nome_emissor, nome_receptor, nome_atacante, mensagem):\n",
    "    \n",
    "    # Impressão do cabeçalho da demonstração do envio de uma mensagem secreta, com intercepção\n",
    "    print(\"\\n\\n--- Demonstração simples do envio de uma mensagem secreta, usando a Cifra de César, com intercepção ---\\n\\n\")\n",
    "    \n",
    "    # O Emissor quer enviar a mensagem secreta ao Receptor\n",
    "    print(f\"O Emissor ({nome_emissor}) quer enviar a seguinte mensagem ao Receptor ({nome_receptor}):\\n - \\\"{mensagem}\\\" ...\\n\")\n",
    "    \n",
    "    # Encriptação da mensagem secreta, usando a Cifra de César\n",
    "    texto_cifra = encriptacao_cifra_cesar(mensagem, deslocacao=3)\n",
    "    \n",
    "    # O Emissor encripta a mensagem secreta original a enviar\n",
    "    print(f\"O Emissor ({nome_emissor}) encripta a mensagem original a enviar (i.e., o texto em claro)...\\n\")\n",
    "    \n",
    "    # A transformação da mensagem secreta original no Texto de Cifra\n",
    "    print(f\"Encriptação da mensagem original a enviar (i.e., texto em claro):\\n - \\\"{mensagem}\\\" --> \\\"{texto_cifra}\\\"\\n\")\n",
    "    \n",
    "    # Envio da mensagem encripta do Emissor ao Receptor\n",
    "    print(f\"Envio da mensagem encriptada, através do canal de comunicação, do Emissor ({nome_emissor}) para o Receptor ({nome_receptor})...\\n\")\n",
    "    \n",
    "    # O Atacante intercepta a mensagem encriptada\n",
    "    print(f\"O Atacante ({nome_atacante}) intercepta a mensagem encriptada (i.e., o texto de cifra)...\\n\")\n",
    "    \n",
    "    # Desencriptação da mensagem secreta, usando a Cifra de César\n",
    "    texto_em_claro_interceptado = desencriptacao_cifra_cesar(texto_cifra, deslocacao=3)\n",
    "    \n",
    "    # O Atacante altera o conteúdo do Texto em Claro interceptado\n",
    "    # Mais especificamente, realizando as substituições necessarias para alterar a mensagem secreta\n",
    "    # de \"Longa vida ao Imperador Cesar!!!\" para \"Longa vida ao Imperador Pompeu!!!\"\n",
    "    \n",
    "    # Inicialização do Texto em Claro modificado\n",
    "    texto_em_claro_modificado = \"\"\n",
    "    \n",
    "    # Modificação do Texto em Claro\n",
    "    for caracter_indice in range(len(texto_em_claro_interceptado) + 1):\n",
    "        \n",
    "        # Se um índice do caractér é menor que 24\n",
    "        if caracter_indice < 24:\n",
    "            \n",
    "            # Concatenação do caractér atual\n",
    "            texto_em_claro_modificado += texto_em_claro_interceptado[caracter_indice]\n",
    "\n",
    "        # Se um índice do caractér é igual a 24\n",
    "        elif caracter_indice == 24:\n",
    "            \n",
    "            # Alteração do caractér atual\n",
    "            texto_em_claro_modificado += \"P\"\n",
    "            \n",
    "        # Se um índice do caractér é igual a 25\n",
    "        elif caracter_indice == 25:\n",
    "            \n",
    "            # Alteração do caractér atual\n",
    "            texto_em_claro_modificado += \"o\"\n",
    "            \n",
    "        # Se um índice do caractér é igual a 26\n",
    "        elif caracter_indice == 26:\n",
    "            \n",
    "            # Alteração do caractér atual\n",
    "            texto_em_claro_modificado += \"m\"\n",
    "            \n",
    "        # Se um índice do caractér é igual a 27\n",
    "        elif caracter_indice == 27:\n",
    "            \n",
    "            # Alteração do caractér atual\n",
    "            texto_em_claro_modificado += \"p\"\n",
    "            \n",
    "        # Se um índice do caractér é igual a 28\n",
    "        elif caracter_indice == 28:\n",
    "            \n",
    "            # Alteração do caractér atual\n",
    "            texto_em_claro_modificado += \"e\"\n",
    "            \n",
    "        # Se um índice do caractér é igual a 29\n",
    "        elif caracter_indice == 29:\n",
    "            \n",
    "            # Alteração do caractér atual\n",
    "            texto_em_claro_modificado += \"u\"\n",
    "            \n",
    "        # Se um índice do caractér está entre 30 e 31\n",
    "        elif 30 <= caracter_indice <= 31:\n",
    "            \n",
    "            # Concatenação do caractér atual\n",
    "            texto_em_claro_modificado += texto_em_claro_interceptado[caracter_indice]\n",
    "            \n",
    "        # Se um índice do caractér é igual a 32\n",
    "        elif caracter_indice == 32:\n",
    "            \n",
    "            # Alteração do caractér atual\n",
    "            texto_em_claro_modificado += \"!\"\n",
    "    \n",
    "    # Modificação da mensagem secreta interceptada\n",
    "    print(f\"Modificação da mensagem secreta interceptada (i.e., texto em claro):\\n - \\\"{texto_em_claro_interceptado}\\\" --> \\\"{texto_em_claro_modificado}\\\"\\n\")\n",
    "    \n",
    "    # Encriptação da mensagem secreta interceptada e modificada, usando a Cifra de César\n",
    "    texto_cifra = encriptacao_cifra_cesar(texto_em_claro_modificado, deslocacao=3)\n",
    "    \n",
    "    # O Atacante encripta a mensagem modificada a enviar\n",
    "    print(f\"O Atacante ({nome_atacante}) encripta a mensagem modificada a enviar (i.e., o texto em claro modificado)...\\n\")\n",
    "    \n",
    "    # Encriptação da mensagem modificada a enviar\n",
    "    print(f\"Encriptação da mensagem modificada a enviar (i.e., texto em claro modificado):\\n - \\\"{texto_em_claro_modificado}\\\" --> \\\"{texto_cifra}\\\"\\n\")\n",
    "    \n",
    "    # Envio da mensagem maliciosa encriptada\n",
    "    print(f\"Envio da mensagem maliciosa encriptada, através do canal de comunicação, do Atacante ({nome_atacante}) para o Receptor ({nome_receptor})...\\n\")\n",
    "    \n",
    "    # O Receptor recebe a mensagem encriptada\n",
    "    print(f\"O Receptor ({nome_receptor}) recebe a mensagem encriptada (i.e., o texto de cifra)...\\n\")\n",
    "    \n",
    "    # Desencriptação da mensagem secreta, usando a Cifra de César\n",
    "    texto_em_claro = desencriptacao_cifra_cesar(texto_cifra, deslocacao=3)\n",
    "    \n",
    "    # O Receptor desencripta a mensagem encriptada recebida\n",
    "    print(f\"O Receptor ({nome_receptor}) desencripta a mensagem encriptada recebida (i.e., o texto de cifra)...\\n\")\n",
    "\n",
    "    # A transformação da mensagem secreta encriptada no Texto em Claro\n",
    "    print(f\"Desencriptação da mensagem encriptada recebida (i.e., texto de cifra):\\n \\\"{texto_cifra}\\\" --> \\\"{texto_em_claro}\\\"\")\n",
    "    \n",
    "    # Impressão do rodapé da demonstração do envio de uma mensagem secreta, com intercepção\n",
    "    print(\"\\n\\n--- Fim da Demonstração simples do envio de uma mensagem secreta, usando a Cifra de César, com intercepção ---\\n\\n\")"
   ]
  },
  {
   "cell_type": "markdown",
   "metadata": {},
   "source": [
    "Agora, a **_Alice_** procede ao envio da mensagem ao **_Bob_**, de forma secreta, mas em que a mensagem é interceptada e modificada pela **_Eva_**, usando a função implementada anteriormente em **_Python_**:"
   ]
  },
  {
   "cell_type": "code",
   "execution_count": 11,
   "metadata": {},
   "outputs": [
    {
     "name": "stdout",
     "output_type": "stream",
     "text": [
      "\n",
      "\n",
      "--- Demonstração simples do envio de uma mensagem secreta, usando a Cifra de César, com intercepção ---\n",
      "\n",
      "\n",
      "O Emissor (Alice) quer enviar a seguinte mensagem ao Receptor (Bob):\n",
      " - \"Longa vida ao Imperador Cesar!!!\" ...\n",
      "\n",
      "O Emissor (Alice) encripta a mensagem original a enviar (i.e., o texto em claro)...\n",
      "\n",
      "Encriptação da mensagem original a enviar (i.e., texto em claro):\n",
      " - \"Longa vida ao Imperador Cesar!!!\" --> \"Orqjd ylgd dr Lpshudgru Fhvdu!!!\"\n",
      "\n",
      "Envio da mensagem encriptada, através do canal de comunicação, do Emissor (Alice) para o Receptor (Bob)...\n",
      "\n",
      "O Atacante (Eva) intercepta a mensagem encriptada (i.e., o texto de cifra)...\n",
      "\n",
      "Modificação da mensagem secreta interceptada (i.e., texto em claro):\n",
      " - \"Longa vida ao Imperador Cesar!!!\" --> \"Longa vida ao Imperador Pompeu!!!\"\n",
      "\n",
      "O Atacante (Eva) encripta a mensagem modificada a enviar (i.e., o texto em claro modificado)...\n",
      "\n",
      "Encriptação da mensagem modificada a enviar (i.e., texto em claro modificado):\n",
      " - \"Longa vida ao Imperador Pompeu!!!\" --> \"Orqjd ylgd dr Lpshudgru Srpshx!!!\"\n",
      "\n",
      "Envio da mensagem maliciosa encriptada, através do canal de comunicação, do Atacante (Eva) para o Receptor (Bob)...\n",
      "\n",
      "O Receptor (Bob) recebe a mensagem encriptada (i.e., o texto de cifra)...\n",
      "\n",
      "O Receptor (Bob) desencripta a mensagem encriptada recebida (i.e., o texto de cifra)...\n",
      "\n",
      "Desencriptação da mensagem encriptada recebida (i.e., texto de cifra):\n",
      " \"Orqjd ylgd dr Lpshudgru Srpshx!!!\" --> \"Longa vida ao Imperador Pompeu!!!\"\n",
      "\n",
      "\n",
      "--- Fim da Demonstração simples do envio de uma mensagem secreta, usando a Cifra de César, com intercepção ---\n",
      "\n",
      "\n"
     ]
    }
   ],
   "source": [
    "# Envio da mensagem secreta, usando a Cifra de César, com intercepção\n",
    "enviar_mensagem_secreta_usando_cifra_cesar_com_intercepcao(NOME_EMISSOR, NOME_RECEPTOR, NOME_ATACANTE, MENSAGEM)"
   ]
  },
  {
   "cell_type": "markdown",
   "metadata": {},
   "source": [
    "Este exemplo demonstra a extrema importância de alguns parâmetros do **_Algoritmo de Encriptação_** serem:\n",
    "* _Secretos_:\n",
    "    * Como se tratasse de um _segredo_ ou _chave secreta_;\n",
    "* _Privados_:\n",
    "    * Apenas do conhecimento dos intervinientes envolvidos directamente na transmissão da mensagem secreta (ou seja, o **_Emissor_** e o **_Receptor_**);"
   ]
  },
  {
   "cell_type": "markdown",
   "metadata": {},
   "source": [
    "Adicionalmente, em relação aos exemplos anteriores, pode-se verificar que um terceiro interviniente conseguiria sempre interceptar e aceder ao conteúdo facilmente, sem precisar necessariamente de conhecer o _segredo_ usado."
   ]
  },
  {
   "cell_type": "markdown",
   "metadata": {},
   "source": [
    "Isto porque, se o **_Atacante_** tiver conhecimento que a _primitiva criptográfica_ em uso é a **_Cifra de César_**, consegue inferir que o espaço de soluções para a _deslocação alfabética_ é obrigatoriamente um _número inteiro_ de _0_ a _25_, pois é o número de _deslocações alfabéticas_ possíveis, até se percorrer todos os caractéres do alfabeto."
   ]
  },
  {
   "cell_type": "markdown",
   "metadata": {},
   "source": [
    "A partir este conhecimento, é fácil para o **_Atacante_** experimentar exaustivamente, como _deslocamento alfabético_, todas possibilidades do espaço de soluções para o processo de **_Desencriptação_**, num _ataque criptográfico_ que é conhecido como **_Ataque_**/**_Procura de Força Bruta_** (ver mais detalhes em [https://pt.wikipedia.org/wiki/Busca_por_for%C3%A7a_bruta](https://pt.wikipedia.org/wiki/Busca_por_for%C3%A7a_bruta))."
   ]
  },
  {
   "cell_type": "markdown",
   "metadata": {},
   "source": [
    "Mesmo que o **_Atacante_** não saiba qual é a mensagem original (i.e., em _texto em claro_ inicial), o mesmo pode realizar um processo de **_Criptanálise_**, elaborando um _dicionário_ de **_Ataque de Texto de Cifra Escolhido_** e tentando inferir algo sobre a _deslocação alfabética_ usada (ver mais detalhes em [https://pt.wikipedia.org/wiki/Ataque_de_cifrotexto_escolhido](https://pt.wikipedia.org/wiki/Ataque_de_cifrotexto_escolhido))."
   ]
  },
  {
   "cell_type": "markdown",
   "metadata": {},
   "source": [
    "No próximo exemplo, é demonstrado um cenário, onde o **_Atacante_** tenta esta abordagem e como o mesmo pode tentar inferir algo sobre a _deslocação alfabética_ usada na **_Cifra de César_**."
   ]
  },
  {
   "cell_type": "markdown",
   "metadata": {},
   "source": [
    "### Exemplo #3 - Envio de mensagem secreta, interceptada e alvo de Criptanálise (Ataque/Procura de Força Bruta e Ataque de Texto de Cifra Escolhido)"
   ]
  },
  {
   "cell_type": "markdown",
   "metadata": {},
   "source": [
    "Imagine-se o seguinte cenário:\n",
    "* A **_Alice_** é o **_Emissor_**;\n",
    "* O **_Bob_** é o **_Receptor_**;\n",
    "* A **_Alice_** pretende enviar ao **_Bob_**, a seguinte mensagem secreta \"_Longa vida ao Imperador Cesar!!!_\";\n",
    "* A **_Alice_** e o **_Bob_** têm um _segredo partilhado_, que neste caso, é a _deslocação alfabética_, _s=15_;\n",
    "* A **_Eva_** é o **_Atacante_**;\n",
    "* A **_Eva_** não tem conhecimento do _segredo partilhado_ entre a **_Alice_** e o **_Bob_**;\n",
    "* A **_Eva_** vai interceptar e criar uma cópia sobre a mensagem enviada para o **_Bob_**;\n",
    "* A **_Eva_** vai efetuar **_Criptanálise_**, através de um **_Ataque de Texto de Cifra Escolhido_** ao conteúdo da cópia da mensagem secreta encriptada interceptada;\n",
    "* A **_Eva_** realiza este processo, de forma que nem a **_Alice_** nem o **_Bob_** desconfiem de nada;"
   ]
  },
  {
   "cell_type": "markdown",
   "metadata": {},
   "source": [
    "Mais uma vez, têm que ser definidos os ingredientes fundamentais desta demonstração:"
   ]
  },
  {
   "cell_type": "code",
   "execution_count": 12,
   "metadata": {},
   "outputs": [],
   "source": [
    "# Definição do nome do Emissor\n",
    "NOME_EMISSOR = \"Alice\"\n",
    "\n",
    "# Definição do nome do Receptor\n",
    "NOME_RECEPTOR = \"Bob\"\n",
    "\n",
    "# Definição do nome do Atacante\n",
    "NOME_ATACANTE = \"Eva\"\n",
    "\n",
    "# Definição da mensagem, que a Alice pretende enviar ao Bob, de forma secreta e que a Eva pretende interceptar\n",
    "MENSAGEM = \"Longa vida ao Imperador Cesar!!!\""
   ]
  },
  {
   "cell_type": "markdown",
   "metadata": {},
   "source": [
    "Primeiro, seria necessário implementar o procedimento para a criação do _dicionário_ de **_Ataque de Texto de Cifra Escolhido_** em **_Python_**:"
   ]
  },
  {
   "cell_type": "code",
   "execution_count": 13,
   "metadata": {},
   "outputs": [],
   "source": [
    "# Função para criar dicionário para um Ataque de Texto de Cifra Escolhido, efetuado sobre a Cifra César,\n",
    "# dado um Texto de Cifra e o espaço de soluções possíveis (i.e., 26 deslocações alfabéticas possíveis)\n",
    "def criar_dicionario_ataque_texto_cifra_escolhido_cifra_cesar(texto_cifra, num_espaco_solucoes=26):\n",
    " \n",
    "    # Inicialização do dicionário para um Ataque de Texto de Cifra Escolhido, efetuado sobre a Cifra de César\n",
    "    dicionario_ataque_texto_cifra_escolhido_cifra_cesar = []\n",
    "    \n",
    "    # Para todos os deslocamentos alfabéticos, no espaço de soluções possíveis\n",
    "    for deslocamento_atual in range(num_espaco_solucoes):\n",
    "        \n",
    "        # Desencriptação do Texto de Cifra, considerando o deslocamento alfabético atual\n",
    "        texto_em_claro = desencriptacao_cifra_cesar(texto_cifra, deslocacao=deslocamento_atual)\n",
    "        \n",
    "        # Guardar em memória, a desencriptação do Texto de Cifra, considerando o deslocamento alfabético atual\n",
    "        dicionario_ataque_texto_cifra_escolhido_cifra_cesar.append(texto_em_claro)\n",
    "    \n",
    "    # Retorna o dicionário do Ataque de Textro de Cifra Escolhido criado anteriormente\n",
    "    return dicionario_ataque_texto_cifra_escolhido_cifra_cesar"
   ]
  },
  {
   "cell_type": "markdown",
   "metadata": {},
   "source": [
    "Podemos definir a implementação de uma função em **_Python_** simples, para enviar uma _mensagem secreta_, através de um _canal de comunicação_ e que é interceptada e alvo de um **_Ataque de Texto de Cifra Escolhido_** por um **_Atacante_**, da seguinte forma:"
   ]
  },
  {
   "cell_type": "code",
   "execution_count": 14,
   "metadata": {},
   "outputs": [],
   "source": [
    "# Função para enviar uma mensagem secreta, de um Emissor para um Receptor, usando a Cifra de César,\n",
    "# para os processos de Encriptação e Desencriptação da mensagem, e interceptada por um Atacante\n",
    "def enviar_mensagem_secreta_usando_cifra_cesar_com_intercepcao_e_ataque_texto_cifra_escolhido(nome_emissor, nome_receptor, nome_atacante, mensagem):\n",
    "    \n",
    "    # Impressão do cabeçalho da demonstração do envio de uma mensagem secreta, com intercepção\n",
    "    print(\"\\n\\n--- Demonstração simples do envio de uma mensagem secreta, usando a Cifra de César, com intercepção ---\\n\\n\")\n",
    "    \n",
    "    # O Emissor quer enviar a mensagem secreta ao Receptor\n",
    "    print(f\"O Emissor ({nome_emissor}) quer enviar a seguinte mensagem ao Receptor ({nome_receptor}):\\n - \\\"{mensagem}\\\" ...\\n\")\n",
    "    \n",
    "    # Encriptação da mensagem secreta, usando a Cifra de César\n",
    "    texto_cifra = encriptacao_cifra_cesar(mensagem, deslocacao=15)\n",
    "    \n",
    "    # O Emissor encripta a mensagem secreta original a enviar\n",
    "    print(f\"O Emissor ({nome_emissor}) encripta a mensagem original a enviar (i.e., o texto em claro)...\\n\")\n",
    "    \n",
    "    # A transformação da mensagem secreta original no Texto de Cifra\n",
    "    print(f\"Encriptação da mensagem original a enviar (i.e., texto em claro):\\n - \\\"{mensagem}\\\" --> \\\"{texto_cifra}\\\"\\n\")\n",
    "    \n",
    "    # Envio da mensagem encripta do Emissor ao Receptor\n",
    "    print(f\"Envio da mensagem encriptada, através do canal de comunicação, do Emissor ({nome_emissor}) para o Receptor ({nome_receptor})...\\n\")\n",
    "    \n",
    "    # O Atacante intercepta a mensagem encriptada\n",
    "    print(f\"O Atacante ({nome_atacante}) intercepta a mensagem encriptada (i.e., o texto de cifra)...\\n\")\n",
    "    \n",
    "    # Intercepção e cópia do Texto Cifra\n",
    "    copia_texto_cifra_interceptado = texto_cifra\n",
    "    \n",
    "    # O Atacante, de seguida, experimenta, exaustivamente, todas as deslocações alfabéticas possíveis,\n",
    "    # através de um Ataque/Procura de Força Bruta (mais especificamente, um Ataque de Texto de Cifra Escolhido)\n",
    "    # e cria um dicionário com todos os Textos em Claro, resultantes deste processo\n",
    "    \n",
    "    # O Atacante intercepta a mensagem encriptada\n",
    "    print(f\"O Atacante ({nome_atacante}) cria um dicionário de Ataque de Texto de Cifra Escolhido, a partir da mensagem encriptada interceptada...\\n\")\n",
    "    \n",
    "    # Criação do dicionário de Ataque de Texto de Cifra Escolhido\n",
    "    dicionario_ataque_texto_cifra_escolhido_cifra_cesar = criar_dicionario_ataque_texto_cifra_escolhido_cifra_cesar(texto_cifra, num_espaco_solucoes=26)\n",
    "    \n",
    "    # O Receptor recebe a mensagem encriptada\n",
    "    print(f\"O Receptor ({nome_receptor}) recebe a mensagem encriptada (i.e., o texto de cifra)...\\n\")\n",
    "    \n",
    "    # Desencriptação da mensagem secreta, usando a Cifra de César\n",
    "    texto_em_claro = desencriptacao_cifra_cesar(texto_cifra, deslocacao=15)\n",
    "    \n",
    "    # O Receptor desencripta a mensagem encriptada recebida\n",
    "    print(f\"O Receptor ({nome_receptor}) desencripta a mensagem encriptada recebida (i.e., o texto de cifra)...\\n\")\n",
    "\n",
    "    # A transformação da mensagem secreta encriptada no Texto em Claro\n",
    "    print(f\"Desencriptação da mensagem encriptada recebida (i.e., texto de cifra):\\n \\\"{texto_cifra}\\\" --> \\\"{texto_em_claro}\\\"\")\n",
    "    \n",
    "    # Impressão do rodapé da demonstração do envio de uma mensagem secreta, com intercepção\n",
    "    print(\"\\n\\n--- Fim da Demonstração simples do envio de uma mensagem secreta, usando a Cifra de César, com intercepção ---\\n\\n\")\n",
    "    \n",
    "    # Retorna o dicionário de Ataque de Texto de Cifra Escolhido\n",
    "    return dicionario_ataque_texto_cifra_escolhido_cifra_cesar"
   ]
  },
  {
   "cell_type": "markdown",
   "metadata": {},
   "source": [
    "Agora, a **_Alice_** procede ao envio da mensagem ao **_Bob_**, de forma secreta, mas em que a mensagem é interceptada e alvo de um **_Ataque de Texto de Cifra Escolhido_** feito pela **_Eva_**, usando a função implementada anteriormente em **_Python_**:"
   ]
  },
  {
   "cell_type": "code",
   "execution_count": 15,
   "metadata": {},
   "outputs": [
    {
     "name": "stdout",
     "output_type": "stream",
     "text": [
      "\n",
      "\n",
      "--- Demonstração simples do envio de uma mensagem secreta, usando a Cifra de César, com intercepção ---\n",
      "\n",
      "\n",
      "O Emissor (Alice) quer enviar a seguinte mensagem ao Receptor (Bob):\n",
      " - \"Longa vida ao Imperador Cesar!!!\" ...\n",
      "\n",
      "O Emissor (Alice) encripta a mensagem original a enviar (i.e., o texto em claro)...\n",
      "\n",
      "Encriptação da mensagem original a enviar (i.e., texto em claro):\n",
      " - \"Longa vida ao Imperador Cesar!!!\" --> \"Adcvp kxsp pd Xbetgpsdg Rthpg!!!\"\n",
      "\n",
      "Envio da mensagem encriptada, através do canal de comunicação, do Emissor (Alice) para o Receptor (Bob)...\n",
      "\n",
      "O Atacante (Eva) intercepta a mensagem encriptada (i.e., o texto de cifra)...\n",
      "\n",
      "O Atacante (Eva) cria um dicionário de Ataque de Texto de Cifra Escolhido, a partir da mensagem encriptada interceptada...\n",
      "\n",
      "O Receptor (Bob) recebe a mensagem encriptada (i.e., o texto de cifra)...\n",
      "\n",
      "O Receptor (Bob) desencripta a mensagem encriptada recebida (i.e., o texto de cifra)...\n",
      "\n",
      "Desencriptação da mensagem encriptada recebida (i.e., texto de cifra):\n",
      " \"Adcvp kxsp pd Xbetgpsdg Rthpg!!!\" --> \"Longa vida ao Imperador Cesar!!!\"\n",
      "\n",
      "\n",
      "--- Fim da Demonstração simples do envio de uma mensagem secreta, usando a Cifra de César, com intercepção ---\n",
      "\n",
      "\n"
     ]
    }
   ],
   "source": [
    "# Envio da mensagem secreta, usando a Cifra de César, com intercepção e Ataque/Procura de Força Bruta (Ataque de Texto de Cifra Escolhido)\n",
    "dicionario_ataque_texto_cifra_escolhido_cifra_cesar = enviar_mensagem_secreta_usando_cifra_cesar_com_intercepcao_e_ataque_texto_cifra_escolhido(NOME_EMISSOR, NOME_RECEPTOR, NOME_ATACANTE, MENSAGEM)"
   ]
  },
  {
   "cell_type": "markdown",
   "metadata": {},
   "source": [
    "Adicionalmente, também é necessário criar uma função em **_Python_** que imprime todos os _textos de cifra_ resultantes do _dicionário_ do **_Ataque de Texto de Cifra Escolhido_**, para a **_Criptanálise_** da **_Cifra de César_**:"
   ]
  },
  {
   "cell_type": "code",
   "execution_count": 16,
   "metadata": {},
   "outputs": [],
   "source": [
    "# Função para a Criptanálise do Ataque de Texto de Cifra Escolhido, efetudado sobre a Cifra de César,\n",
    "# dado um dicionário com todos os Textos em Claro resultantes deste processo\n",
    "def criptanalise_ataque_texto_cifra_escolhido_cifra_cesar(dicionario_ataque_texto_cifra_escolhido_cifra_cesar):\n",
    "    \n",
    "    # Impressão do cabeçalho da demonstração da Criptanálise do Ataque de Texto de Cifra Escolhido, efetudado sobre a Cifra de César\n",
    "    print(\"\\n\\n--- Criptanálise do Ataque de Texto de Cifra Escolhido feito à Cifra de César ---\\n\\n\")\n",
    "    \n",
    "    # Impressão de um cabeçalho adicional para os resultdos do dicionário do Ataque de Texto de Cifra Escolhido\n",
    "    print(\"Resultados da Criptanálise do dicionário do Ataque de Texto de Cifra Escolhido:\\n\")\n",
    "    \n",
    "    # Para o índice e o conteúdo de todos os Textos em Claro, resultantes do dicionário do Ataque de Texto de Cifra Escolhido\n",
    "    for texto_claro_indice, texto_claro in enumerate(dicionario_ataque_texto_cifra_escolhido_cifra_cesar):\n",
    "        \n",
    "        # Imprime o índice e o conteúdo do Texto em Claro atual, resultantes do dicionário do Ataque de Texto de Cifra Escolhido\n",
    "        print(f\" - Para s={texto_claro_indice}: \\\"{texto_claro}\\\"\\n\")\n",
    "     \n",
    "    # Impressão do rodapé da demonstração da Criptanálise do Ataque de Texto de Cifra Escolhido, efetudado sobre a Cifra de César\n",
    "    print(\"\\n\\n--- Fim da Criptanálise do Ataque de Texto de Cifra Escolhido feito à Cifra de César ---\\n\\n\")"
   ]
  },
  {
   "cell_type": "markdown",
   "metadata": {},
   "source": [
    "Por fim, é feita a **_Criptanálise_** da **_Cifra de César_**, sobre os _textos de cifra_ resultantes do _dicionário_ do **_Ataque de Texto de Cifra Escolhido_**:"
   ]
  },
  {
   "cell_type": "code",
   "execution_count": 17,
   "metadata": {},
   "outputs": [
    {
     "name": "stdout",
     "output_type": "stream",
     "text": [
      "\n",
      "\n",
      "--- Criptanálise do Ataque de Texto de Cifra Escolhido feito à Cifra de César ---\n",
      "\n",
      "\n",
      "Resultados da Criptanálise do dicionário do Ataque de Texto de Cifra Escolhido:\n",
      "\n",
      " - Para s=0: \"Adcvp kxsp pd Xbetgpsdg Rthpg!!!\"\n",
      "\n",
      " - Para s=1: \"Zcbuo jwro oc Wadsforcf Qsgof!!!\"\n",
      "\n",
      " - Para s=2: \"Ybatn ivqn nb Vzcrenqbe Prfne!!!\"\n",
      "\n",
      " - Para s=3: \"Xazsm hupm ma Uybqdmpad Oqemd!!!\"\n",
      "\n",
      " - Para s=4: \"Wzyrl gtol lz Txapclozc Npdlc!!!\"\n",
      "\n",
      " - Para s=5: \"Vyxqk fsnk ky Swzobknyb Mockb!!!\"\n",
      "\n",
      " - Para s=6: \"Uxwpj ermj jx Rvynajmxa Lnbja!!!\"\n",
      "\n",
      " - Para s=7: \"Twvoi dqli iw Quxmzilwz Kmaiz!!!\"\n",
      "\n",
      " - Para s=8: \"Svunh cpkh hv Ptwlyhkvy Jlzhy!!!\"\n",
      "\n",
      " - Para s=9: \"Rutmg bojg gu Osvkxgjux Ikygx!!!\"\n",
      "\n",
      " - Para s=10: \"Qtslf anif ft Nrujwfitw Hjxfw!!!\"\n",
      "\n",
      " - Para s=11: \"Psrke zmhe es Mqtivehsv Giwev!!!\"\n",
      "\n",
      " - Para s=12: \"Orqjd ylgd dr Lpshudgru Fhvdu!!!\"\n",
      "\n",
      " - Para s=13: \"Nqpic xkfc cq Korgtcfqt Eguct!!!\"\n",
      "\n",
      " - Para s=14: \"Mpohb wjeb bp Jnqfsbeps Dftbs!!!\"\n",
      "\n",
      " - Para s=15: \"Longa vida ao Imperador Cesar!!!\"\n",
      "\n",
      " - Para s=16: \"Knmfz uhcz zn Hlodqzcnq Bdrzq!!!\"\n",
      "\n",
      " - Para s=17: \"Jmley tgby ym Gkncpybmp Acqyp!!!\"\n",
      "\n",
      " - Para s=18: \"Ilkdx sfax xl Fjmboxalo Zbpxo!!!\"\n",
      "\n",
      " - Para s=19: \"Hkjcw rezw wk Eilanwzkn Yaown!!!\"\n",
      "\n",
      " - Para s=20: \"Gjibv qdyv vj Dhkzmvyjm Xznvm!!!\"\n",
      "\n",
      " - Para s=21: \"Fihau pcxu ui Cgjyluxil Wymul!!!\"\n",
      "\n",
      " - Para s=22: \"Ehgzt obwt th Bfixktwhk Vxltk!!!\"\n",
      "\n",
      " - Para s=23: \"Dgfys navs sg Aehwjsvgj Uwksj!!!\"\n",
      "\n",
      " - Para s=24: \"Cfexr mzur rf Zdgvirufi Tvjri!!!\"\n",
      "\n",
      " - Para s=25: \"Bedwq lytq qe Ycfuhqteh Suiqh!!!\"\n",
      "\n",
      "\n",
      "\n",
      "--- Fim da Criptanálise do Ataque de Texto de Cifra Escolhido feito à Cifra de César ---\n",
      "\n",
      "\n"
     ]
    }
   ],
   "source": [
    "# Criptanálise do Ataque de Texto de Cifra Escolhido, efetudado sobre a Cifra de César,\n",
    "# dado um dicionário com todos os Textos em Claro resultantes deste processo\n",
    "criptanalise_ataque_texto_cifra_escolhido_cifra_cesar(dicionario_ataque_texto_cifra_escolhido_cifra_cesar)"
   ]
  },
  {
   "cell_type": "markdown",
   "metadata": {},
   "source": [
    "A partir dos resultados presentes no _dicionário_ de **_Ataque de Texto de Cifra Escolhido_**, é fácil inferir que o **_texto em claro_** que faz mais sentido, em termos de _linguagem_ e _contexto_, é quando se usa a _deslocação alfabética_, _s=12_, que é, de facto, o _segredo partilhado_ entre o **_Emissor_** e o **_Receptor_**, durante a transmissão da mensagem secreta, no exemplo anterior."
   ]
  },
  {
   "cell_type": "markdown",
   "metadata": {},
   "source": [
    "A **_Eva_** poderia guardar, em memória, todas as mensagens secretas trocadas, entre a **_Alice_** e o **_Bob_**, e sabendo que em todas, foi sempre usada a **_Cifra de César_**, pode repetir este procedimento para todas essas mensagens, tendo facilmente acesso ao seu verdadeiro conteúdo (i.e., o seu _texto em claro_)."
   ]
  },
  {
   "cell_type": "markdown",
   "metadata": {},
   "source": [
    "Na verdade, primeira evidência da **_Criptografia_** surgiu ainda muito antes do **_Império de Roma_**, de **_Júlio Cesar_**, surgindo dos **_Egípcios Antigos_**, nomeadamente com o uso de **_Hieróglifos_** e **_Pictogramas_** complexos, para escrever mensagens secretas, onde a codificação secreta era apenas conhecido pelos escribas, enquanto que a primeira ferramenta computacional conhecida, foi o **_Ábaco Sumérico_**, na **_Babilónia_**."
   ]
  },
  {
   "cell_type": "markdown",
   "metadata": {},
   "source": [
    "Estes eventos datam de _4.000_ anos atrás, e desde então, essas necessidades foram tornando-se mais cruciais do que nunca, na vida diária das pessoas, onde elas precisam de estarem conectadas no mundo inteiro."
   ]
  },
  {
   "cell_type": "markdown",
   "metadata": {},
   "source": [
    "A emergência da **_Criptografia_**, ao longo dos anos, obrigou a que fossem introduzidos os conceitos de:\n",
    "* **_Algoritmo de Encriptação_**:\n",
    "    * As regras para a _encriptação_ e _desencriptação_ da informação;\n",
    "* **_Chave Secreta_**:\n",
    "    * O parâmetro de entrada secreto do _algoritmo de encriptação_;"
   ]
  },
  {
   "cell_type": "markdown",
   "metadata": {},
   "source": [
    "Ao longo dos primeiros tempos até ao início do século XX, a popularidade da **_Criptografia_** aumentou bastante, com _primitivas criptográficas_ tornando-se cada vez mais fortes (i.e., mais difíceis de serem _forçadamente_ _desencriptadas_, sem autorização, normalmente referido como, sendo \"_quebradas_\" ou \"_crackadas_\", como demonstrado no exemplo anterior)."
   ]
  },
  {
   "cell_type": "markdown",
   "metadata": {},
   "source": [
    "As **_Cifras_** de **_Substituição_** e **_Transposição_**/**_Deslocação_** dominaram maior parte desta era, sendo o **_Deslocamento de César_**, a **_Substituição Poli-Alfabética_** ou as **_Cifras Vigenère_**, alguns notáveis exemplos disso."
   ]
  },
  {
   "cell_type": "markdown",
   "metadata": {},
   "source": [
    "Anos mais tarde, **_Thomas Young_** demonstrou que, a luz pode-se comportar como sendo ambas, _ondas_ e _partículas_, ao mesmo tempo, no seu **_Experimento da Dupla-Fenda_** \\[1, 2\\], em _1801_, e começou a desvendar a natureza probabilística dos fenómenos da **_Mecânica Quântica_**, no campo da física moderna."
   ]
  },
  {
   "cell_type": "markdown",
   "metadata": {},
   "source": [
    "No começo do século XX, em _1900_ e _1901_, **_Max Planck_** sugeriu que, a radiação, sendo, quer matéria ou luz, é quantizada, quantidades discretas \\[3-6\\], dando origem ao próprio termo de _quântica_, enquanto **_Albert Einstein_** propôs o conceito de _quantum de luz_, mais tarde conhecido como, _fotão_, como também, a observação da _dualidade de partícula-onda dos fotões_ \\[7-10\\], em _1905_ e _1906_."
   ]
  },
  {
   "cell_type": "markdown",
   "metadata": {},
   "source": [
    "No início da **_1ª Guerra Mundial_**, durante o evento do **_Telegrama de Zimmermann_**, foram introduzidos dois aspetos importantes na **_Criptografia_**, tais como, cada vez que uma _primitiva criptográfica_ é \"_quebrada_\", uma mais forte é desenvolvida e a revelação do sucesso em \"_quebrar_\" uma cifra leva tempo até fornece vantagem ao adversário, a partir da qual, surgiu o conceito de **_Criptanálise_**."
   ]
  },
  {
   "cell_type": "markdown",
   "metadata": {},
   "source": [
    "Em _1919_, **_Ernest Rutherford_** descobriu a primeira evidência de sempre para um _protão_, enquanto em _1924_, **_Louis de Broglie_** propôs que a _matéria_ tem propriedades de _onda_."
   ]
  },
  {
   "cell_type": "markdown",
   "metadata": {},
   "source": [
    "Por outro lado, **_Wolfgang Pauli_** formulou o _princípio da exclusão_ para _electrões_, num _átomo_, em _1925_ e, um ano mais tarde, **_Erwin Schrödinger_** desenvolveu a _mecânica das ondas_ e **_Max Born_** deu uma interpretação de probabilidades à **_Mecânica Quântica_** \\[11–15\\]."
   ]
  },
  {
   "cell_type": "markdown",
   "metadata": {},
   "source": [
    "Mais tarde, **_Werner Heisenberg_** formulou o **_Príncipio da  Relatividade_**, em _1927_, e **_Paul Dirac_** combinou a **_Mecânica Quântica_** e **_Relatividade Espacial_** de **_Albert Einstein_**, em _1928_, o que fez com que se tornassem beme estabelecidas, em _1930_, demonstrando quais são as _partículas fundamentais_ \\[16, 17\\]."
   ]
  },
  {
   "cell_type": "markdown",
   "metadata": {},
   "source": [
    "Em _1935_, **_Erwin Schrödinger_** propôs um experimento, conhecido como, o **_Gato do Schrodinger_**, para ilustrar a _superposição quântica_ e a **_Interpretação de Copenhaga_** da **_Mecânica Quântica_** \\[18\\]."
   ]
  },
  {
   "cell_type": "markdown",
   "metadata": {},
   "source": [
    "Ao mesmo tempo, também em 1935, foi testemunhada uma mudança de paradigma na **_Ciência da Informação_**, dada pela **_Tese de Church-Turing_**, onde a idéia das **_Máquinas de Turing_** (ou **_Computadores_**), foi formulada, como qualquer máquina que efetua métodos computacionais eficazes \\[19–22\\]."
   ]
  },
  {
   "cell_type": "markdown",
   "metadata": {},
   "source": [
    "Durante a **_2ª Guerra Mundial_**, a **_Criptografia_** foi relevante, com a **_Máquina de Enigma_**, sendo \"_quebrada_\" pela \"**_Bomba Criptográfica_**\" **_Polaca_**, mas isto foi apenas tornado público mais de _20_ anos depois."
   ]
  },
  {
   "cell_type": "markdown",
   "metadata": {},
   "source": [
    "Outros eventos marcantes, foram o desenvolvimento do **_Colossus_** **_Mark 1_** e **_Mark 2_**, em _1943_ e _1944_, respectivamente, a introdução da **_Arquitetura de von Neumann_**, por **_John von Neumann_**, em _1945_, como um modelo para arquiteturas de computadores, e o desenvolvimento do **_ENIAC_**, por **_John Eckert_** e **_John Mauchly_**, em _1946_, como o primeiro computador digital programável, eletrónico e de uso geral."
   ]
  },
  {
   "cell_type": "markdown",
   "metadata": {},
   "source": [
    "Uma grande contribuição para o crescimento do processamento computacional, foi a introdução dos **_Dispositivos Semi-Condutores_** e os **_Transistors_**, por **_John Bardeen_**, **_Walter Brattain_** e **_William Shockley_**, nos **_Bell Labs_**, em _1947_, que lhes valeu o **_Prémio Nobel_**, em _1956_, permitindo o estudo de problemas novos mais complexos, fazendo com que o campo da **_Teoria da Complexidade Computacional_** a emergir."
   ]
  },
  {
   "cell_type": "markdown",
   "metadata": {},
   "source": [
    "A **_ARPA_** (**_DARPA_**), foi lançada pelo **_Departamento de Defesa dos EUA_**, em _1958_, financiando também a **_ARPANET_**, entre _1962_ e _1966_, como a primeira _rede de comutação de pacotes_ de _área ampla_, permitindo o acesso a computadores remotos, levando ao início da própria **_Internet_**, enquanto em _1969_, a **_BNN_** desenvolveu os **_IMP_**s e então, foi enviada a primeira mensagem de sempre, através da **_Internet_**."
   ]
  },
  {
   "cell_type": "markdown",
   "metadata": {},
   "source": [
    "Em _1973_, o **_NBS_** (**_NIST_**) fez uma chamada pública para _primitivas criptográficas_ a serem adoptadas como o _padrão_ pelo **_Gonverno dos EUA_**, com o **_DES_** sendo aprovado e tornando-se o _padrão_ para _encriptação_, enquanto pela primeira vez de sempre, um _algoritmo de encriptação_ foi divulgado para análise pública."
   ]
  },
  {
   "cell_type": "markdown",
   "metadata": {},
   "source": [
    "Desde então, outras _primitivas criptográficas_ foram propostos, ao longo dos anos, tais como, **_AES_**, **_3DES_**, **_Twofish_**, **_Blowfish_**, **_Serpent_**, **_RC4_**, **_IDEA_** \\[23-26\\], conhecidas como, _cifras de chave simétrica_."
   ]
  },
  {
   "cell_type": "markdown",
   "metadata": {},
   "source": [
    "Em 1981, o **_NSF_** expandiu a **_ARPANET_** à comunidade da **_Ciência da Computação_**, quando fundou o **_CSNET_** e adotou o **_Protocolo TCP/IP_**, como um _padrão_, em _1983_."
   ]
  },
  {
   "cell_type": "markdown",
   "metadata": {},
   "source": [
    "Adicionalmente, a **_BBN_** assumiu a gestão de operações da **_CSNET_**, em _1984_, enquanto a **_ARPANET_** lançou o **_NSFNET_** em _1985_, com o objetivo de conectar todos os **_Departamentos de Ciência da Computação_**, ao longo dos **_EUA_**."
   ]
  },
  {
   "cell_type": "markdown",
   "metadata": {},
   "source": [
    "A **_Internet_** e as _comunicações_ tiveram um grande destaque em _1989_, quando **_Tim Berners-Lee_**, do **_CERN_**, criou o **_HTTP_**, como um _padrão_, propondo também, o conceito de **_WWW_** em _1990_."
   ]
  },
  {
   "cell_type": "markdown",
   "metadata": {},
   "source": [
    "No início do século XXI, foi sentido um grande problema de gestão, com o crescimento da indústria empresarial, devido ao aumento do número de _chaves secretas_ a serem distribuídas entre as empresas e seus clientes, nas quais, a entrega direta das _chaves secretas_, começou a ficar insuportável."
   ]
  },
  {
   "cell_type": "markdown",
   "metadata": {},
   "source": [
    "Uma solução para este problema foi antecipada por **_Whifield Diffie_**, **_Martin Hellman_** e **_Ralph Merkle_** em _1976_, apresentando o conceito de _distribuição de chave_ \\[27\\]."
   ]
  },
  {
   "cell_type": "markdown",
   "metadata": {},
   "source": [
    "Este conceito da _distribuição de chave_ era diferente do que é hoje considerado ser um _criptosistema de chave-pública_, ao usar _chaves assimétricas_ (_par de chaves_), onde uma chave é _pública_ e a outra é mantida _privada_."
   ]
  },
  {
   "cell_type": "markdown",
   "metadata": {},
   "source": [
    "Este procedimento, atualmente conhecido como a **_Troca de Chaves_** de **_Diffie-Hellman_**, tornou possível estabelecer chaves, sem a necessidade de os dois participantes partilharem informação prévia, \n",
    "com antecedência, permitindo uma troca de mensagens em público, garantindo ao mesmo tempo _confidenciabilidade_."
   ]
  },
  {
   "cell_type": "markdown",
   "metadata": {},
   "source": [
    "Em instância, ele usa uma _função_ _aritmética modular_ e _unilateral_ (1), da qual sua segurança depende principalmente das propriedades matemáticas do **_Problema de Logaritmo Discreto_** (2), que se acreditou ser um problema computacional difícil, ou um **_NP-Intermediário Problema_** (3) e, portanto, considerado difícil de se \"_quebrar_\"."
   ]
  },
  {
   "cell_type": "markdown",
   "metadata": {},
   "source": [
    "Mais tarde, em _1977_, **_Ronald Rivest_**, **_Adi Shamir_** e **_Leonard Adleman_**, também propôs o o **_Criptosistema RSA_** \\[28\\], estendendo o trabalho de **_Diffie_** e **_Hellman_**, onde a mesma chave \"_pública_\" seria usada por qualquer pessoa para comunicar em particular com um utilizador."
   ]
  },
  {
   "cell_type": "markdown",
   "metadata": {},
   "source": [
    "O **_Criptosistema RSA_** é baseado no **_Problema de Factorização_** (4), no qual a sua segurança, baseia-se na suposição matemática de que, se um _número primo_ _muito grande_ é usado no mesmo, então, será extremamente difícil calcular a sua _chave privada_, baseado no conhecimento da _chave pública_, numa quantidade razoável (não exponêncial) de tempo."
   ]
  },
  {
   "cell_type": "markdown",
   "metadata": {},
   "source": [
    "Desde então, outras _primitivas criptográficas_ notáveis foram propostas, tais como:\n",
    "* **_Assinaturas Digitais_**;\n",
    "* **_Criptografia de Curva-Elíptica_**;\n",
    "* **_Provas Interactivas_**;\n",
    "* **_Acordos Bizantinos_**;\n",
    "* **_Computações Multipartidas_**;\n",
    "* **_Criptomoedas_**;\n",
    "* **_Blockchains_**;\n",
    "* **_Encriptação Homomórfica_**;"
   ]
  },
  {
   "cell_type": "markdown",
   "metadata": {},
   "source": [
    "No entanto, a **_1ª Revolução Quântica_**, formulada por alguns nomes notáveis, como, **_Albert Einstein_**, **_Max Plank_**, **_Werner Heisenberg_**, **_Erwin Schrödinger_** ou **_Wolfgang Pauli_**, deu-nos novas regras que regem a realidade física, nos seus níveis _atómicos_ e _subatómicos_ fundamentais, durante o século XX."
   ]
  },
  {
   "cell_type": "markdown",
   "metadata": {},
   "source": [
    "Agora, no século XXI, a **_2ª Revolução Quântica_** está a aproveitar essas regras e está usando-as para desenvolver novas tecnologias poderosas, sendo a **_Computação Quântica_**, um dos exemplos mais notáveis disso."
   ]
  },
  {
   "cell_type": "markdown",
   "metadata": {},
   "source": [
    "Na verdade, o físico **_Richard Feynman_**, vencedor do **_Prémio Nobel_** em _1965_, afirmou, a certa altura, que a **_Computação Quântica_** seria o futuro da **_Ciência da Computação_**, ao aproveitar a aplicação da **_Mecânica Quântica_** à **_Ciência da Computação_** para processar informação e dados \\[54\\]."
   ]
  },
  {
   "cell_type": "markdown",
   "metadata": {},
   "source": [
    "A partir desta idéia, novos tópicos de investigação surgiram, tais como:\n",
    "* **_Criptografia Quântica_**;\n",
    "* **_Redes Quânticas_**/**_Internet Quântica_**;\n",
    "* **_Comunicações Quânticas_**;\n",
    "* **_Inteligência Artificial Quântica_**;\n",
    "* **_Teoria de Jogos Quântica_**;\n",
    "* **_Aprendizagem de Máquina Quântica_**;\n",
    "* **_Aprendizagem Profunda Quântica_**;\n",
    "* **_Cognição Quântica_**;\n",
    "* **_Optimização Quântica_**;\n",
    "* **_Simulação Quântica_**;"
   ]
  },
  {
   "cell_type": "markdown",
   "metadata": {},
   "source": [
    "Além disso, uma grande variedade de _algoritmos_ e _protocolos_ _quânticos_ foram desenvolvidos, razão pela qual, a **_UE_**, os **_EUA_** e a **_China_**, estão investindo fortemente em _tecnologias quânticas_, e com ótimos resultados já alcançados \\[60, 61\\]."
   ]
  },
  {
   "cell_type": "markdown",
   "metadata": {},
   "source": [
    "***"
   ]
  },
  {
   "cell_type": "markdown",
   "metadata": {},
   "source": [
    "### Acrónimos:\n",
    "* N/A"
   ]
  },
  {
   "cell_type": "markdown",
   "metadata": {},
   "source": [
    "***"
   ]
  },
  {
   "cell_type": "markdown",
   "metadata": {},
   "source": [
    "### Notas:\n",
    "1. N/A\n",
    "2. N/A\n",
    "3. N/A\n",
    "4. N/A"
   ]
  },
  {
   "cell_type": "markdown",
   "metadata": {},
   "source": [
    "***"
   ]
  },
  {
   "cell_type": "markdown",
   "metadata": {},
   "source": [
    "### Referências:\n",
    "* N/A"
   ]
  },
  {
   "cell_type": "markdown",
   "metadata": {},
   "source": [
    "***"
   ]
  },
  {
   "cell_type": "markdown",
   "metadata": {},
   "source": [
    "**Uma atualização em:** 26 de Junho, 2021\n",
    "\n",
    "**Autor:** _Rúben André Barreiro_\n",
    "\n",
    "**Adaptado da Dissertação/Tese de Mestrado:**\n",
    "* \"_Acordo de Chave de Conferência Semi-Quântico (ACCSQ)_\" - 2021\n",
    "\n",
    "**© Direitos de autoria Qiskrypt, 2021, todos os direitos reservados.**"
   ]
  },
  {
   "cell_type": "markdown",
   "metadata": {},
   "source": [
    "***"
   ]
  },
  {
   "cell_type": "markdown",
   "metadata": {},
   "source": [
    "<a rel=\"license\" href=\"http://creativecommons.org/licenses/by-nc-nd/4.0/\"><img alt=\"Creative Commons License\" style=\"border-width:0\" src=\"https://i.creativecommons.org/l/by-nc-nd/4.0/88x31.png\" /></a><br />Este trabalho está licenciado sobre uma <a rel=\"license\" href=\"http://creativecommons.org/licenses/by-nc-nd/4.0/\">Licensa Internacional da Creative Commons Attribution-NonCommercial-NoDerivatives 4.0</a>."
   ]
  }
 ],
 "metadata": {
  "kernelspec": {
   "display_name": "Python 3",
   "language": "python",
   "name": "python3"
  },
  "language_info": {
   "codemirror_mode": {
    "name": "ipython",
    "version": 3
   },
   "file_extension": ".py",
   "mimetype": "text/x-python",
   "name": "python",
   "nbconvert_exporter": "python",
   "pygments_lexer": "ipython3",
   "version": "3.8.5"
  }
 },
 "nbformat": 4,
 "nbformat_minor": 4
}
