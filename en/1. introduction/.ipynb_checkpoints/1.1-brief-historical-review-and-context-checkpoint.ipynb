{
 "cells": [
  {
   "cell_type": "code",
   "execution_count": 1,
   "metadata": {},
   "outputs": [
    {
     "data": {
      "text/html": [
       "<style>.container { width:100% !important; }</style>"
      ],
      "text/plain": [
       "<IPython.core.display.HTML object>"
      ]
     },
     "metadata": {},
     "output_type": "display_data"
    }
   ],
   "source": [
    "from IPython.core.display import display, HTML\n",
    "display(HTML(\"<style>.container { width:100% !important; }</style>\"))"
   ]
  },
  {
   "cell_type": "markdown",
   "metadata": {},
   "source": [
    "# 1.1. Brief Historical Review and Context"
   ]
  },
  {
   "cell_type": "markdown",
   "metadata": {},
   "source": [
    "Since the ancient times, the humanity always felt the need of represent and exchange information, in private, what made some remarkable theoretical and scientific fields to emerge, over the ages, such as, **_Information Science_**, **_Computer Science_**, **_Cryptography_** or the **_Internet_** itself."
   ]
  },
  {
   "cell_type": "markdown",
   "metadata": {},
   "source": [
    "From the need of exchange information in private, the field of **_Cryptography_** emerged as the study of secure communication techniques, allowing only the sender and an authorized receiver of a message, to view its content, by the both processes of:\n",
    "* **_Encryption_**:\n",
    "    * Scrambling ordinary text (also known as, _plain-text_), into what is known as, _cipher-text_ to be sent, which is the procedure made by the _sender_;\n",
    "* **_Decryption_**:\n",
    "    * Recovering of the _cipher-text_ back again to its original state (i.e., the _plain-text_), which is the procedure made by the _receiver_;"
   ]
  },
  {
   "cell_type": "markdown",
   "metadata": {},
   "source": [
    "In fact, the first evidence of **_Cryptography_** came from **_Ancient Egyptians_**, namely with complex **_Hieroglyphs_** and **_Pictograms_**, to write secret messages, where the secret encoding was only known by the scribes, while the earliest computational tool known, was the **_Sumerian Abacus_**, in **_Babylon_**."
   ]
  },
  {
   "cell_type": "markdown",
   "metadata": {},
   "source": [
    "These events date back to _4,000_ years ago, and since then, these needs were becoming more crucial than ever, in people's daily lives, where they need to be connected worldwide."
   ]
  },
  {
   "cell_type": "markdown",
   "metadata": {},
   "source": [
    "The emergence of the **_Cryptography_**, over the years, required to be introduced the concepts of:\n",
    "* **_Encryption Algorithm_**:\n",
    "    * The rules for the _encryption_ and _decryption_ of the information;\n",
    "* **_Secret Key_**:\n",
    "    * The secret input parameter of the _encryption algorithm_;"
   ]
  },
  {
   "cell_type": "markdown",
   "metadata": {},
   "source": [
    "Over the early times until the 20th century, the popularity of **_Cryptography_** has increased severely, with _cryptographic primitives_ becoming increasingly stronger (i.e., more difficult of being _forcibly_ _decrypted_, without authorization, commonly referred as, being \"_broken_\" or \"_cracked_\")."
   ]
  },
  {
   "cell_type": "markdown",
   "metadata": {},
   "source": [
    "The **_Transposition_**/**_Shifting_** and **_Substitution Ciphers_** dominated most of this era, being the **_Caesar Shift_**, the **_Polyalphabetic Substitution_**, **_Vigenère Ciphers_**, some notable examples of it."
   ]
  },
  {
   "cell_type": "markdown",
   "metadata": {},
   "source": [
    "Years later, _Thomas Young_ demonstrated that, the light can behave as both, _waves_ and _particles_, at the same time, in his **_Double-Slit Experiment_** \\[1, 2\\], in 1801, and started to unveil the probabilistic nature of **_Quantum Mechanical_** phenomena, in the modern physics field."
   ]
  },
  {
   "cell_type": "markdown",
   "metadata": {},
   "source": [
    "In the beginning of the 20th century, in _1900_ and _1901_, **_Max Planck_** suggested  that, the radiation, being, either matter or light, is quantized, in discrete amounts \\[3–6\\], giving rise to the term _quantum_ itself, while **_Albert Einstein_** proposed the concept of a _quantum of light_, later known as, _photon_, as also, the observation of the _particle-wave duality of photons_ \\[7–10\\], in _1905_ and _1906_."
   ]
  },
  {
   "cell_type": "markdown",
   "metadata": {},
   "source": [
    "At the start of the **_WW1_**, during the event of the **_Zimmermann Telegram_**, were introduced two important aspects in **_Cryptography_**, such as, every time that a cryptographic primitiveis \"_broken_\", a stronger one is developed and the reveal of the success in \"_breaking_\" a cipher takes times to provide adversarial advantage, from which, arise the concept of _cryptanalysis_."
   ]
  },
  {
   "cell_type": "markdown",
   "metadata": {},
   "source": [
    "In _1919_, **_Ernest Rutherford_** found the first evidence ever for a _proton_, while, in _1924_, **_Louis de Broglie_** proposed that, matter has wave properties, **_Wolfgang Pauli_** formulated the _exclusion principle_ for _electrons_, in an _atom_, in _1925_ and, one year later, **_Erwin Schrödinger_** developed the _wave mechanics_ and **_Max Born_** gave a probability interpretation of **_Quantum Mechanics_** \\[11–15\\]."
   ]
  },
  {
   "cell_type": "markdown",
   "metadata": {},
   "source": [
    "Later on, **_Werner Heisenberg_** formulated the **_Principle of Uncertainty_**, in _1927_, and **_Paul Dirac_**, combined **_Quantum Mechanics_** and **_Special Relativity_** of **_Albert Einstein_**, in _1928_, what made them became well established, in _1930_, demonstrating the _fundamental particles_ \\[16, 17\\]."
   ]
  },
  {
   "cell_type": "markdown",
   "metadata": {},
   "source": [
    "In _1935_, **_Erwin Schrödinger_** proposed the experiment of the **_Schrodinger's Cat_** to illustrate the _quantum superposition_ and the **_Copenhagen Interpretation_** of **_Quantum Mechanics_** \\[18\\]."
   ]
  },
  {
   "cell_type": "markdown",
   "metadata": {},
   "source": [
    "At the same time, it was witnessed a change of paradigm on _Information Science_, in _1935_, given by the **_Church-Turing Thesis_**, where the idea of the **_Turing Machines_** (or **_Computers_**), was formulated, as any machine that performs effective computational methods \\[19–22\\]."
   ]
  },
  {
   "cell_type": "markdown",
   "metadata": {},
   "source": [
    "During the **_WW2_**, the **_Cryptography_** was relevant, with the **_Enigma Machine_**, being \"_broken_\" by the **_Polish_** \"**_Cryptographic Bomb_**\", but it was only made public more than 20 years later."
   ]
  },
  {
   "cell_type": "markdown",
   "metadata": {},
   "source": [
    "Other remarkable events, were the development of **_Colossus_** **_Mark 1_** and **_Mark 2_**, in _1943_ and _1944_, respectively, the introduction of the **_Von Neumann Architecture_**, by **_John von Neumann_**, in _1945_, as a model for computer architectures, and the development of **_ENIAC_**, by **_John Eckert_** and **_John Mauchly_**, in _1946_, as the first programmable, electronic, general-purpose digital computer."
   ]
  },
  {
   "cell_type": "markdown",
   "metadata": {},
   "source": [
    "A huge contribution for the computational processing growth, was the introduction of the **_Semiconductor Devices_** and the **_Transistors_**, by **_John  Bardeen_**, **_Walter Brattain_** and **_William Shockley_**, at **_Bell Labs_**, in _1947_, which gave them the **_Nobel Prize_**, in _1956_, allowing the study of new more complex problems, making the field of **_Computational Complexity Theory_** to emerge."
   ]
  },
  {
   "cell_type": "markdown",
   "metadata": {},
   "source": [
    "The **_ARPA_** (**_DARPA_**), was launched by the **_Defence Department of USA_**, in _1958_, financing also the **_ARPANET_**, between _1962_ and _1966_, as the first ever _wide-area_ _packet-switching network_, enabling access to remote computers, leading to the beginning of the **_Internet_** itself, while, in _1969_, **_BBN_** developed the **_IMPs_** and then, was sent the first message ever, over the **_Internet_**."
   ]
  },
  {
   "cell_type": "markdown",
   "metadata": {},
   "source": [
    "In _1973_, the **_NBS_** (**_NIST_**) made a public call for a _cryptographic primitive_ to be adopted as the _standard_ by the **_USA Government_**, with the **_DES_** being approved and becoming the global _standard_ for _encryption_, while, for the first time ever, an _encryption algorithm_ was disclosed for public analysis."
   ]
  },
  {
   "cell_type": "markdown",
   "metadata": {},
   "source": [
    "Since then, other cryptographic primitives being proposed, along the years, such as, **_AES_**, **_3DES_**, **_Twofish_**, **_Blowfish_**, **_Serpent_**, **_RC4_**, **_IDEA_** \\[23–26\\], known as, _symmetric key ciphers_."
   ]
  },
  {
   "cell_type": "markdown",
   "metadata": {},
   "source": [
    "In 1981, the **_NSF_** expanded **_ARPANET_** to the **_Computer Science_** community, when it funded the **_CSNET_** and adopted the **_TCP/IP Protocol_**, as a _standard_, in _1983_."
   ]
  },
  {
   "cell_type": "markdown",
   "metadata": {},
   "source": [
    "Additionally, the **_BBN_** assumed **_CSNET_**'s operation management, in _1984_, while, the **_ARPANET_** launched the **_NSFNET_**, in 1985, with the aim of connecting all the **_University Computer Science Departments_**, across the **_USA_**."
   ]
  },
  {
   "cell_type": "markdown",
   "metadata": {},
   "source": [
    "The _Internet_ and communications have a major remark, in _1989_, when **_Tim Berners-Lee_**, of **_CERN_**, created the **_HTTP_**, as a _standard_, proposing also, the concept of **_WWW_**, in _1990_."
   ]
  },
  {
   "cell_type": "markdown",
   "metadata": {},
   "source": [
    "At the beginning  of  the 21st century, a major management problem was felt,  with the growth of the business industry, due to the increasing number of _secret keys_ to be distributed between companies and their customers, in which, handing over the _secret keys_ directly, started to become unbearable."
   ]
  },
  {
   "cell_type": "markdown",
   "metadata": {},
   "source": [
    "A solution to this problem was anticipated by **_Whifield Diffie_**, **_Martin Hellman_** and **_Ralph Merkle_**, in _1976_, presenting the concept of _key distribution_ \\[27\\]."
   ]
  },
  {
   "cell_type": "markdown",
   "metadata": {},
   "source": [
    "This concept of _key distribution_ was different from what is nowadays considered to be a _public-key cryptosystem_, by using _asymmetric keys_ (_pair of keys_), where one key is _public_ and the other one is kept _private_."
   ]
  },
  {
   "cell_type": "markdown",
   "metadata": {},
   "source": [
    "This procedure, currently known as the **_Diffie-Hellman_** **_Key Exchange_**, made possible to be established keys, without the need of the two participants share previous information, in advance, allowing an exchange of messages in public, while ensuring _confidentiality_."
   ]
  },
  {
   "cell_type": "markdown",
   "metadata": {},
   "source": [
    "This procedure uses a _modular arithmetic_ and _one-way function_ (1), from which its security relies mostly on the mathematical properties of the **_Discrete Logarithm Problem_** (2), believed to be a computational hard problem, or, a **_NP-Intermediate Problem_** (3), and thus, believed to be difficult to \"_break_\"."
   ]
  },
  {
   "cell_type": "markdown",
   "metadata": {},
   "source": [
    "Later, in _1977_, **_Ronald Rivest_**, **_Adi Shamir_** and **_Leonard Adleman_**, also proposed the **_RSA Cryptosystem_** \\[28\\], extending the work of **_Diffie_** and **_Hellman_**, where the same \"_public_\" key would be used by anyone to privately communicate with an user."
   ]
  },
  {
   "cell_type": "markdown",
   "metadata": {},
   "source": [
    "The **_RSA cryptosystem_** is based on the **_Factorization Problem_** (4), in which its security, relies on the mathematical assumption that, if a very large prime number is used in it, then, it would be extremely difficult to compute the **_private-key_**, based on the knowledge of the _public-key_, in a reasonable (non exponential) amount of time."
   ]
  },
  {
   "cell_type": "markdown",
   "metadata": {},
   "source": [
    "Since then, other remarkable cryptographic primitives were proposed, such as:\n",
    "* **_Digital Signatures_**;\n",
    "* **_Elliptic-Curve Cryptography_**;\n",
    "* **_Interactive Proofs_**;\n",
    "* **_Byzantine Agreements_**;\n",
    "* **_Multiparty Computations_**;\n",
    "* **_Cryptocurrencies_**;\n",
    "* **_Blockchains_**;\n",
    "* **_Homomorphic Encryption_**;"
   ]
  },
  {
   "cell_type": "markdown",
   "metadata": {},
   "source": [
    "Although, the 1st **_Quantum Revolution_**, formulated by some notable names, such as, **_Albert Einstein_**, **_Max Plank_**, **_Werner Heisenberg_**, **_Erwin Schrödinger_**, or **_Wolfgang Pauli_**, gave us new rules that govern physical reality, in their fundamental _atomic_ and _subatomic_ levels, during the 20th century."
   ]
  },
  {
   "cell_type": "markdown",
   "metadata": {},
   "source": [
    "Now, in the 21th century, the 2nd **_Quantum Revolution_** is taking these rules and using them to develop new powerful technologies, being **_Quantum Computing_**, one of the most remarkable examples of it."
   ]
  },
  {
   "cell_type": "markdown",
   "metadata": {},
   "source": [
    "In fact, the physicist, **_Richard Feynman_**, winner of the **_Nobel Prize_**, in 1965, claimed, at a certain point, that **_Quantum Computing_** would be the future of **_Computer Science_**, by taking advantage of the application of **_Quantum Mechanics_** to **_Computer Science_** to process the information \\[54\\]."
   ]
  },
  {
   "cell_type": "markdown",
   "metadata": {},
   "source": [
    "From this idea, new research topics emerged, such as:\n",
    "* **_Quantum Cryptography_**;\n",
    "* **_Quantum Networks_**;\n",
    "* **_Quantum Communications_**;\n",
    "* **_Quantum Artificial Intelligence_**;\n",
    "* **_Quantum Game Theory_**;\n",
    "* **_Quantum Machine Learning_**;\n",
    "* **_Quantum Optimization_**;\n",
    "* **_Quantum Simulation_**;"
   ]
  },
  {
   "cell_type": "markdown",
   "metadata": {},
   "source": [
    "As well, a variety of _quantum_ _algorithms_ and _protocols_ were developed, reason why, **_EU_**, **_USA_** and **_China_** are strongly investing in **_quantum technologies_**, with great results already achieved \\[60, 61\\]."
   ]
  },
  {
   "cell_type": "markdown",
   "metadata": {},
   "source": [
    "***"
   ]
  },
  {
   "cell_type": "markdown",
   "metadata": {},
   "source": [
    "### Acronyms:\n",
    "* N/A"
   ]
  },
  {
   "cell_type": "markdown",
   "metadata": {},
   "source": [
    "***"
   ]
  },
  {
   "cell_type": "markdown",
   "metadata": {},
   "source": [
    "### Notes:\n",
    "1. N/A\n",
    "2. N/A\n",
    "3. N/A\n",
    "4. N/A"
   ]
  },
  {
   "cell_type": "markdown",
   "metadata": {},
   "source": [
    "***"
   ]
  },
  {
   "cell_type": "markdown",
   "metadata": {},
   "source": [
    "### References:\n",
    "* N/A"
   ]
  },
  {
   "cell_type": "markdown",
   "metadata": {},
   "source": [
    "***"
   ]
  },
  {
   "cell_type": "markdown",
   "metadata": {},
   "source": [
    "**Last updated on:** June 26, 2021\n",
    "\n",
    "**Author:** _Rúben André Barreiro_\n",
    "\n",
    "**Adapted from the Master Dissertation/Thesis:**\n",
    "* \"_Semi-Quantum Conference Key Agreement (SQCKA)_\" - 2021\n",
    "\n",
    "**© Copyright Qiskrypt, 2021, all rights reserved.**"
   ]
  },
  {
   "cell_type": "markdown",
   "metadata": {},
   "source": [
    "***"
   ]
  },
  {
   "cell_type": "markdown",
   "metadata": {},
   "source": [
    "<a rel=\"license\" href=\"http://creativecommons.org/licenses/by-nc-nd/4.0/\"><img alt=\"Creative Commons License\" style=\"border-width:0\" src=\"https://i.creativecommons.org/l/by-nc-nd/4.0/88x31.png\" /></a><br />This work is licensed under a <a rel=\"license\" href=\"http://creativecommons.org/licenses/by-nc-nd/4.0/\">Creative Commons Attribution-NonCommercial-NoDerivatives 4.0 International License</a>."
   ]
  }
 ],
 "metadata": {
  "kernelspec": {
   "display_name": "Python 3",
   "language": "python",
   "name": "python3"
  },
  "language_info": {
   "codemirror_mode": {
    "name": "ipython",
    "version": 3
   },
   "file_extension": ".py",
   "mimetype": "text/x-python",
   "name": "python",
   "nbconvert_exporter": "python",
   "pygments_lexer": "ipython3",
   "version": "3.8.5"
  }
 },
 "nbformat": 4,
 "nbformat_minor": 4
}
